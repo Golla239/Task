{
  "nbformat": 4,
  "nbformat_minor": 0,
  "metadata": {
    "colab": {
      "name": "Task.ipynb",
      "provenance": [],
      "collapsed_sections": []
    },
    "kernelspec": {
      "name": "python3",
      "display_name": "Python 3"
    },
    "language_info": {
      "name": "python"
    }
  },
  "cells": [
    {
      "cell_type": "code",
      "execution_count": 3,
      "metadata": {
        "id": "upzOwPGSYkEc"
      },
      "outputs": [],
      "source": [
        "import numpy as np\n",
        "import pandas as pd\n",
        "import matplotlib.pyplot as plt\n",
        "import seaborn as sns\n",
        "%matplotlib inline\n",
        "from datetime import datetime"
      ]
    },
    {
      "cell_type": "code",
      "source": [
        "df = pd.read_excel('sheet1.xlsx')"
      ],
      "metadata": {
        "id": "APA0WsVNYr66"
      },
      "execution_count": 4,
      "outputs": []
    },
    {
      "cell_type": "code",
      "source": [
        "df\n"
      ],
      "metadata": {
        "id": "MjA0d64RZCRS",
        "colab": {
          "base_uri": "https://localhost:8080/",
          "height": 423
        },
        "outputId": "40437011-525a-488b-d710-3966e893d747"
      },
      "execution_count": 5,
      "outputs": [
        {
          "output_type": "execute_result",
          "data": {
            "text/plain": [
              "       Sl no. District Name Market Name Commodity Variety Grade  \\\n",
              "0           1          Agra     Achnera    Potato    Desi   FAQ   \n",
              "1           2          Agra     Achnera    Potato    Desi   FAQ   \n",
              "2           3          Agra     Achnera    Potato    Desi   FAQ   \n",
              "3           4          Agra     Achnera    Potato    Desi   FAQ   \n",
              "4           5          Agra     Achnera    Potato    Desi   FAQ   \n",
              "...       ...           ...         ...       ...     ...   ...   \n",
              "14801   14802          Agra    Samsabad    Potato   Other   FAQ   \n",
              "14802   14803          Agra    Samsabad    Potato   Other   FAQ   \n",
              "14803   14804          Agra    Samsabad    Potato   Other   FAQ   \n",
              "14804   14805          Agra    Samsabad    Potato   Other   FAQ   \n",
              "14805   14806          Agra    Samsabad    Potato  F.A.Q.   FAQ   \n",
              "\n",
              "       Min Price (Rs./Quintal)  Max Price (Rs./Quintal)  \\\n",
              "0                          780                      870   \n",
              "1                          800                      880   \n",
              "2                          830                      930   \n",
              "3                          820                      920   \n",
              "4                          860                      940   \n",
              "...                        ...                      ...   \n",
              "14801                     1800                     1880   \n",
              "14802                     1580                     1799   \n",
              "14803                        0                        0   \n",
              "14804                        0                        0   \n",
              "14805                        0                        0   \n",
              "\n",
              "       Modal Price (Rs./Quintal) Price Date  \n",
              "0                            825 2022-03-30  \n",
              "1                            840 2022-03-29  \n",
              "2                            880 2022-03-28  \n",
              "3                            870 2022-03-27  \n",
              "4                            900 2022-03-26  \n",
              "...                          ...        ...  \n",
              "14801                       1840 2014-08-30  \n",
              "14802                       1600 2014-07-31  \n",
              "14803                       1500 2014-06-30  \n",
              "14804                       1300 2014-05-30  \n",
              "14805                        910 2014-03-29  \n",
              "\n",
              "[14806 rows x 10 columns]"
            ],
            "text/html": [
              "\n",
              "  <div id=\"df-bc325cb9-8743-4d40-b7b8-7a873520ad64\">\n",
              "    <div class=\"colab-df-container\">\n",
              "      <div>\n",
              "<style scoped>\n",
              "    .dataframe tbody tr th:only-of-type {\n",
              "        vertical-align: middle;\n",
              "    }\n",
              "\n",
              "    .dataframe tbody tr th {\n",
              "        vertical-align: top;\n",
              "    }\n",
              "\n",
              "    .dataframe thead th {\n",
              "        text-align: right;\n",
              "    }\n",
              "</style>\n",
              "<table border=\"1\" class=\"dataframe\">\n",
              "  <thead>\n",
              "    <tr style=\"text-align: right;\">\n",
              "      <th></th>\n",
              "      <th>Sl no.</th>\n",
              "      <th>District Name</th>\n",
              "      <th>Market Name</th>\n",
              "      <th>Commodity</th>\n",
              "      <th>Variety</th>\n",
              "      <th>Grade</th>\n",
              "      <th>Min Price (Rs./Quintal)</th>\n",
              "      <th>Max Price (Rs./Quintal)</th>\n",
              "      <th>Modal Price (Rs./Quintal)</th>\n",
              "      <th>Price Date</th>\n",
              "    </tr>\n",
              "  </thead>\n",
              "  <tbody>\n",
              "    <tr>\n",
              "      <th>0</th>\n",
              "      <td>1</td>\n",
              "      <td>Agra</td>\n",
              "      <td>Achnera</td>\n",
              "      <td>Potato</td>\n",
              "      <td>Desi</td>\n",
              "      <td>FAQ</td>\n",
              "      <td>780</td>\n",
              "      <td>870</td>\n",
              "      <td>825</td>\n",
              "      <td>2022-03-30</td>\n",
              "    </tr>\n",
              "    <tr>\n",
              "      <th>1</th>\n",
              "      <td>2</td>\n",
              "      <td>Agra</td>\n",
              "      <td>Achnera</td>\n",
              "      <td>Potato</td>\n",
              "      <td>Desi</td>\n",
              "      <td>FAQ</td>\n",
              "      <td>800</td>\n",
              "      <td>880</td>\n",
              "      <td>840</td>\n",
              "      <td>2022-03-29</td>\n",
              "    </tr>\n",
              "    <tr>\n",
              "      <th>2</th>\n",
              "      <td>3</td>\n",
              "      <td>Agra</td>\n",
              "      <td>Achnera</td>\n",
              "      <td>Potato</td>\n",
              "      <td>Desi</td>\n",
              "      <td>FAQ</td>\n",
              "      <td>830</td>\n",
              "      <td>930</td>\n",
              "      <td>880</td>\n",
              "      <td>2022-03-28</td>\n",
              "    </tr>\n",
              "    <tr>\n",
              "      <th>3</th>\n",
              "      <td>4</td>\n",
              "      <td>Agra</td>\n",
              "      <td>Achnera</td>\n",
              "      <td>Potato</td>\n",
              "      <td>Desi</td>\n",
              "      <td>FAQ</td>\n",
              "      <td>820</td>\n",
              "      <td>920</td>\n",
              "      <td>870</td>\n",
              "      <td>2022-03-27</td>\n",
              "    </tr>\n",
              "    <tr>\n",
              "      <th>4</th>\n",
              "      <td>5</td>\n",
              "      <td>Agra</td>\n",
              "      <td>Achnera</td>\n",
              "      <td>Potato</td>\n",
              "      <td>Desi</td>\n",
              "      <td>FAQ</td>\n",
              "      <td>860</td>\n",
              "      <td>940</td>\n",
              "      <td>900</td>\n",
              "      <td>2022-03-26</td>\n",
              "    </tr>\n",
              "    <tr>\n",
              "      <th>...</th>\n",
              "      <td>...</td>\n",
              "      <td>...</td>\n",
              "      <td>...</td>\n",
              "      <td>...</td>\n",
              "      <td>...</td>\n",
              "      <td>...</td>\n",
              "      <td>...</td>\n",
              "      <td>...</td>\n",
              "      <td>...</td>\n",
              "      <td>...</td>\n",
              "    </tr>\n",
              "    <tr>\n",
              "      <th>14801</th>\n",
              "      <td>14802</td>\n",
              "      <td>Agra</td>\n",
              "      <td>Samsabad</td>\n",
              "      <td>Potato</td>\n",
              "      <td>Other</td>\n",
              "      <td>FAQ</td>\n",
              "      <td>1800</td>\n",
              "      <td>1880</td>\n",
              "      <td>1840</td>\n",
              "      <td>2014-08-30</td>\n",
              "    </tr>\n",
              "    <tr>\n",
              "      <th>14802</th>\n",
              "      <td>14803</td>\n",
              "      <td>Agra</td>\n",
              "      <td>Samsabad</td>\n",
              "      <td>Potato</td>\n",
              "      <td>Other</td>\n",
              "      <td>FAQ</td>\n",
              "      <td>1580</td>\n",
              "      <td>1799</td>\n",
              "      <td>1600</td>\n",
              "      <td>2014-07-31</td>\n",
              "    </tr>\n",
              "    <tr>\n",
              "      <th>14803</th>\n",
              "      <td>14804</td>\n",
              "      <td>Agra</td>\n",
              "      <td>Samsabad</td>\n",
              "      <td>Potato</td>\n",
              "      <td>Other</td>\n",
              "      <td>FAQ</td>\n",
              "      <td>0</td>\n",
              "      <td>0</td>\n",
              "      <td>1500</td>\n",
              "      <td>2014-06-30</td>\n",
              "    </tr>\n",
              "    <tr>\n",
              "      <th>14804</th>\n",
              "      <td>14805</td>\n",
              "      <td>Agra</td>\n",
              "      <td>Samsabad</td>\n",
              "      <td>Potato</td>\n",
              "      <td>Other</td>\n",
              "      <td>FAQ</td>\n",
              "      <td>0</td>\n",
              "      <td>0</td>\n",
              "      <td>1300</td>\n",
              "      <td>2014-05-30</td>\n",
              "    </tr>\n",
              "    <tr>\n",
              "      <th>14805</th>\n",
              "      <td>14806</td>\n",
              "      <td>Agra</td>\n",
              "      <td>Samsabad</td>\n",
              "      <td>Potato</td>\n",
              "      <td>F.A.Q.</td>\n",
              "      <td>FAQ</td>\n",
              "      <td>0</td>\n",
              "      <td>0</td>\n",
              "      <td>910</td>\n",
              "      <td>2014-03-29</td>\n",
              "    </tr>\n",
              "  </tbody>\n",
              "</table>\n",
              "<p>14806 rows × 10 columns</p>\n",
              "</div>\n",
              "      <button class=\"colab-df-convert\" onclick=\"convertToInteractive('df-bc325cb9-8743-4d40-b7b8-7a873520ad64')\"\n",
              "              title=\"Convert this dataframe to an interactive table.\"\n",
              "              style=\"display:none;\">\n",
              "        \n",
              "  <svg xmlns=\"http://www.w3.org/2000/svg\" height=\"24px\"viewBox=\"0 0 24 24\"\n",
              "       width=\"24px\">\n",
              "    <path d=\"M0 0h24v24H0V0z\" fill=\"none\"/>\n",
              "    <path d=\"M18.56 5.44l.94 2.06.94-2.06 2.06-.94-2.06-.94-.94-2.06-.94 2.06-2.06.94zm-11 1L8.5 8.5l.94-2.06 2.06-.94-2.06-.94L8.5 2.5l-.94 2.06-2.06.94zm10 10l.94 2.06.94-2.06 2.06-.94-2.06-.94-.94-2.06-.94 2.06-2.06.94z\"/><path d=\"M17.41 7.96l-1.37-1.37c-.4-.4-.92-.59-1.43-.59-.52 0-1.04.2-1.43.59L10.3 9.45l-7.72 7.72c-.78.78-.78 2.05 0 2.83L4 21.41c.39.39.9.59 1.41.59.51 0 1.02-.2 1.41-.59l7.78-7.78 2.81-2.81c.8-.78.8-2.07 0-2.86zM5.41 20L4 18.59l7.72-7.72 1.47 1.35L5.41 20z\"/>\n",
              "  </svg>\n",
              "      </button>\n",
              "      \n",
              "  <style>\n",
              "    .colab-df-container {\n",
              "      display:flex;\n",
              "      flex-wrap:wrap;\n",
              "      gap: 12px;\n",
              "    }\n",
              "\n",
              "    .colab-df-convert {\n",
              "      background-color: #E8F0FE;\n",
              "      border: none;\n",
              "      border-radius: 50%;\n",
              "      cursor: pointer;\n",
              "      display: none;\n",
              "      fill: #1967D2;\n",
              "      height: 32px;\n",
              "      padding: 0 0 0 0;\n",
              "      width: 32px;\n",
              "    }\n",
              "\n",
              "    .colab-df-convert:hover {\n",
              "      background-color: #E2EBFA;\n",
              "      box-shadow: 0px 1px 2px rgba(60, 64, 67, 0.3), 0px 1px 3px 1px rgba(60, 64, 67, 0.15);\n",
              "      fill: #174EA6;\n",
              "    }\n",
              "\n",
              "    [theme=dark] .colab-df-convert {\n",
              "      background-color: #3B4455;\n",
              "      fill: #D2E3FC;\n",
              "    }\n",
              "\n",
              "    [theme=dark] .colab-df-convert:hover {\n",
              "      background-color: #434B5C;\n",
              "      box-shadow: 0px 1px 3px 1px rgba(0, 0, 0, 0.15);\n",
              "      filter: drop-shadow(0px 1px 2px rgba(0, 0, 0, 0.3));\n",
              "      fill: #FFFFFF;\n",
              "    }\n",
              "  </style>\n",
              "\n",
              "      <script>\n",
              "        const buttonEl =\n",
              "          document.querySelector('#df-bc325cb9-8743-4d40-b7b8-7a873520ad64 button.colab-df-convert');\n",
              "        buttonEl.style.display =\n",
              "          google.colab.kernel.accessAllowed ? 'block' : 'none';\n",
              "\n",
              "        async function convertToInteractive(key) {\n",
              "          const element = document.querySelector('#df-bc325cb9-8743-4d40-b7b8-7a873520ad64');\n",
              "          const dataTable =\n",
              "            await google.colab.kernel.invokeFunction('convertToInteractive',\n",
              "                                                     [key], {});\n",
              "          if (!dataTable) return;\n",
              "\n",
              "          const docLinkHtml = 'Like what you see? Visit the ' +\n",
              "            '<a target=\"_blank\" href=https://colab.research.google.com/notebooks/data_table.ipynb>data table notebook</a>'\n",
              "            + ' to learn more about interactive tables.';\n",
              "          element.innerHTML = '';\n",
              "          dataTable['output_type'] = 'display_data';\n",
              "          await google.colab.output.renderOutput(dataTable, element);\n",
              "          const docLink = document.createElement('div');\n",
              "          docLink.innerHTML = docLinkHtml;\n",
              "          element.appendChild(docLink);\n",
              "        }\n",
              "      </script>\n",
              "    </div>\n",
              "  </div>\n",
              "  "
            ]
          },
          "metadata": {},
          "execution_count": 5
        }
      ]
    },
    {
      "cell_type": "code",
      "source": [
        "df.info()"
      ],
      "metadata": {
        "id": "etyNA1ZayaTZ",
        "colab": {
          "base_uri": "https://localhost:8080/"
        },
        "outputId": "bc561e8f-c221-4878-8bf6-6172af3a6fc7"
      },
      "execution_count": 6,
      "outputs": [
        {
          "output_type": "stream",
          "name": "stdout",
          "text": [
            "<class 'pandas.core.frame.DataFrame'>\n",
            "RangeIndex: 14806 entries, 0 to 14805\n",
            "Data columns (total 10 columns):\n",
            " #   Column                     Non-Null Count  Dtype         \n",
            "---  ------                     --------------  -----         \n",
            " 0   Sl no.                     14806 non-null  int64         \n",
            " 1   District Name              14806 non-null  object        \n",
            " 2   Market Name                14806 non-null  object        \n",
            " 3   Commodity                  14806 non-null  object        \n",
            " 4   Variety                    14806 non-null  object        \n",
            " 5   Grade                      14806 non-null  object        \n",
            " 6   Min Price (Rs./Quintal)    14806 non-null  int64         \n",
            " 7   Max Price (Rs./Quintal)    14806 non-null  int64         \n",
            " 8   Modal Price (Rs./Quintal)  14806 non-null  int64         \n",
            " 9   Price Date                 14806 non-null  datetime64[ns]\n",
            "dtypes: datetime64[ns](1), int64(4), object(5)\n",
            "memory usage: 1.1+ MB\n"
          ]
        }
      ]
    },
    {
      "cell_type": "code",
      "source": [
        "df.describe()"
      ],
      "metadata": {
        "id": "In5i6QdQZG3p",
        "colab": {
          "base_uri": "https://localhost:8080/",
          "height": 300
        },
        "outputId": "39588854-7e42-49b1-855d-160b7998e25a"
      },
      "execution_count": 7,
      "outputs": [
        {
          "output_type": "execute_result",
          "data": {
            "text/plain": [
              "             Sl no.  Min Price (Rs./Quintal)  Max Price (Rs./Quintal)  \\\n",
              "count  14806.000000             14806.000000             14806.000000   \n",
              "mean    7403.500000               679.884979               769.840673   \n",
              "std     4274.268378               498.112289               532.838595   \n",
              "min        1.000000                 0.000000                 0.000000   \n",
              "25%     3702.250000               350.000000               440.000000   \n",
              "50%     7403.500000               600.000000               700.000000   \n",
              "75%    11104.750000               910.000000              1050.000000   \n",
              "max    14806.000000              3750.000000              4750.000000   \n",
              "\n",
              "       Modal Price (Rs./Quintal)  \n",
              "count               14806.000000  \n",
              "mean                  838.016277  \n",
              "std                   453.052665  \n",
              "min                     0.000000  \n",
              "25%                   490.000000  \n",
              "50%                   780.000000  \n",
              "75%                  1050.000000  \n",
              "max                 10100.000000  "
            ],
            "text/html": [
              "\n",
              "  <div id=\"df-c5e9adec-8fcf-4046-9626-8199ffda5de7\">\n",
              "    <div class=\"colab-df-container\">\n",
              "      <div>\n",
              "<style scoped>\n",
              "    .dataframe tbody tr th:only-of-type {\n",
              "        vertical-align: middle;\n",
              "    }\n",
              "\n",
              "    .dataframe tbody tr th {\n",
              "        vertical-align: top;\n",
              "    }\n",
              "\n",
              "    .dataframe thead th {\n",
              "        text-align: right;\n",
              "    }\n",
              "</style>\n",
              "<table border=\"1\" class=\"dataframe\">\n",
              "  <thead>\n",
              "    <tr style=\"text-align: right;\">\n",
              "      <th></th>\n",
              "      <th>Sl no.</th>\n",
              "      <th>Min Price (Rs./Quintal)</th>\n",
              "      <th>Max Price (Rs./Quintal)</th>\n",
              "      <th>Modal Price (Rs./Quintal)</th>\n",
              "    </tr>\n",
              "  </thead>\n",
              "  <tbody>\n",
              "    <tr>\n",
              "      <th>count</th>\n",
              "      <td>14806.000000</td>\n",
              "      <td>14806.000000</td>\n",
              "      <td>14806.000000</td>\n",
              "      <td>14806.000000</td>\n",
              "    </tr>\n",
              "    <tr>\n",
              "      <th>mean</th>\n",
              "      <td>7403.500000</td>\n",
              "      <td>679.884979</td>\n",
              "      <td>769.840673</td>\n",
              "      <td>838.016277</td>\n",
              "    </tr>\n",
              "    <tr>\n",
              "      <th>std</th>\n",
              "      <td>4274.268378</td>\n",
              "      <td>498.112289</td>\n",
              "      <td>532.838595</td>\n",
              "      <td>453.052665</td>\n",
              "    </tr>\n",
              "    <tr>\n",
              "      <th>min</th>\n",
              "      <td>1.000000</td>\n",
              "      <td>0.000000</td>\n",
              "      <td>0.000000</td>\n",
              "      <td>0.000000</td>\n",
              "    </tr>\n",
              "    <tr>\n",
              "      <th>25%</th>\n",
              "      <td>3702.250000</td>\n",
              "      <td>350.000000</td>\n",
              "      <td>440.000000</td>\n",
              "      <td>490.000000</td>\n",
              "    </tr>\n",
              "    <tr>\n",
              "      <th>50%</th>\n",
              "      <td>7403.500000</td>\n",
              "      <td>600.000000</td>\n",
              "      <td>700.000000</td>\n",
              "      <td>780.000000</td>\n",
              "    </tr>\n",
              "    <tr>\n",
              "      <th>75%</th>\n",
              "      <td>11104.750000</td>\n",
              "      <td>910.000000</td>\n",
              "      <td>1050.000000</td>\n",
              "      <td>1050.000000</td>\n",
              "    </tr>\n",
              "    <tr>\n",
              "      <th>max</th>\n",
              "      <td>14806.000000</td>\n",
              "      <td>3750.000000</td>\n",
              "      <td>4750.000000</td>\n",
              "      <td>10100.000000</td>\n",
              "    </tr>\n",
              "  </tbody>\n",
              "</table>\n",
              "</div>\n",
              "      <button class=\"colab-df-convert\" onclick=\"convertToInteractive('df-c5e9adec-8fcf-4046-9626-8199ffda5de7')\"\n",
              "              title=\"Convert this dataframe to an interactive table.\"\n",
              "              style=\"display:none;\">\n",
              "        \n",
              "  <svg xmlns=\"http://www.w3.org/2000/svg\" height=\"24px\"viewBox=\"0 0 24 24\"\n",
              "       width=\"24px\">\n",
              "    <path d=\"M0 0h24v24H0V0z\" fill=\"none\"/>\n",
              "    <path d=\"M18.56 5.44l.94 2.06.94-2.06 2.06-.94-2.06-.94-.94-2.06-.94 2.06-2.06.94zm-11 1L8.5 8.5l.94-2.06 2.06-.94-2.06-.94L8.5 2.5l-.94 2.06-2.06.94zm10 10l.94 2.06.94-2.06 2.06-.94-2.06-.94-.94-2.06-.94 2.06-2.06.94z\"/><path d=\"M17.41 7.96l-1.37-1.37c-.4-.4-.92-.59-1.43-.59-.52 0-1.04.2-1.43.59L10.3 9.45l-7.72 7.72c-.78.78-.78 2.05 0 2.83L4 21.41c.39.39.9.59 1.41.59.51 0 1.02-.2 1.41-.59l7.78-7.78 2.81-2.81c.8-.78.8-2.07 0-2.86zM5.41 20L4 18.59l7.72-7.72 1.47 1.35L5.41 20z\"/>\n",
              "  </svg>\n",
              "      </button>\n",
              "      \n",
              "  <style>\n",
              "    .colab-df-container {\n",
              "      display:flex;\n",
              "      flex-wrap:wrap;\n",
              "      gap: 12px;\n",
              "    }\n",
              "\n",
              "    .colab-df-convert {\n",
              "      background-color: #E8F0FE;\n",
              "      border: none;\n",
              "      border-radius: 50%;\n",
              "      cursor: pointer;\n",
              "      display: none;\n",
              "      fill: #1967D2;\n",
              "      height: 32px;\n",
              "      padding: 0 0 0 0;\n",
              "      width: 32px;\n",
              "    }\n",
              "\n",
              "    .colab-df-convert:hover {\n",
              "      background-color: #E2EBFA;\n",
              "      box-shadow: 0px 1px 2px rgba(60, 64, 67, 0.3), 0px 1px 3px 1px rgba(60, 64, 67, 0.15);\n",
              "      fill: #174EA6;\n",
              "    }\n",
              "\n",
              "    [theme=dark] .colab-df-convert {\n",
              "      background-color: #3B4455;\n",
              "      fill: #D2E3FC;\n",
              "    }\n",
              "\n",
              "    [theme=dark] .colab-df-convert:hover {\n",
              "      background-color: #434B5C;\n",
              "      box-shadow: 0px 1px 3px 1px rgba(0, 0, 0, 0.15);\n",
              "      filter: drop-shadow(0px 1px 2px rgba(0, 0, 0, 0.3));\n",
              "      fill: #FFFFFF;\n",
              "    }\n",
              "  </style>\n",
              "\n",
              "      <script>\n",
              "        const buttonEl =\n",
              "          document.querySelector('#df-c5e9adec-8fcf-4046-9626-8199ffda5de7 button.colab-df-convert');\n",
              "        buttonEl.style.display =\n",
              "          google.colab.kernel.accessAllowed ? 'block' : 'none';\n",
              "\n",
              "        async function convertToInteractive(key) {\n",
              "          const element = document.querySelector('#df-c5e9adec-8fcf-4046-9626-8199ffda5de7');\n",
              "          const dataTable =\n",
              "            await google.colab.kernel.invokeFunction('convertToInteractive',\n",
              "                                                     [key], {});\n",
              "          if (!dataTable) return;\n",
              "\n",
              "          const docLinkHtml = 'Like what you see? Visit the ' +\n",
              "            '<a target=\"_blank\" href=https://colab.research.google.com/notebooks/data_table.ipynb>data table notebook</a>'\n",
              "            + ' to learn more about interactive tables.';\n",
              "          element.innerHTML = '';\n",
              "          dataTable['output_type'] = 'display_data';\n",
              "          await google.colab.output.renderOutput(dataTable, element);\n",
              "          const docLink = document.createElement('div');\n",
              "          docLink.innerHTML = docLinkHtml;\n",
              "          element.appendChild(docLink);\n",
              "        }\n",
              "      </script>\n",
              "    </div>\n",
              "  </div>\n",
              "  "
            ]
          },
          "metadata": {},
          "execution_count": 7
        }
      ]
    },
    {
      "cell_type": "code",
      "source": [
        "df.isna().sum()"
      ],
      "metadata": {
        "id": "Cmi0n9uzZlyA",
        "colab": {
          "base_uri": "https://localhost:8080/"
        },
        "outputId": "9cf7c37a-e766-4c0d-8016-65ecfce7b42d"
      },
      "execution_count": 8,
      "outputs": [
        {
          "output_type": "execute_result",
          "data": {
            "text/plain": [
              "Sl no.                       0\n",
              "District Name                0\n",
              "Market Name                  0\n",
              "Commodity                    0\n",
              "Variety                      0\n",
              "Grade                        0\n",
              "Min Price (Rs./Quintal)      0\n",
              "Max Price (Rs./Quintal)      0\n",
              "Modal Price (Rs./Quintal)    0\n",
              "Price Date                   0\n",
              "dtype: int64"
            ]
          },
          "metadata": {},
          "execution_count": 8
        }
      ]
    },
    {
      "cell_type": "code",
      "source": [
        "df.duplicated"
      ],
      "metadata": {
        "id": "V2l3wzAIy77i",
        "colab": {
          "base_uri": "https://localhost:8080/"
        },
        "outputId": "52f3a502-04b2-41c3-a312-c09870ab0279"
      },
      "execution_count": 9,
      "outputs": [
        {
          "output_type": "execute_result",
          "data": {
            "text/plain": [
              "<bound method DataFrame.duplicated of        Sl no. District Name Market Name Commodity Variety Grade  \\\n",
              "0           1          Agra     Achnera    Potato    Desi   FAQ   \n",
              "1           2          Agra     Achnera    Potato    Desi   FAQ   \n",
              "2           3          Agra     Achnera    Potato    Desi   FAQ   \n",
              "3           4          Agra     Achnera    Potato    Desi   FAQ   \n",
              "4           5          Agra     Achnera    Potato    Desi   FAQ   \n",
              "...       ...           ...         ...       ...     ...   ...   \n",
              "14801   14802          Agra    Samsabad    Potato   Other   FAQ   \n",
              "14802   14803          Agra    Samsabad    Potato   Other   FAQ   \n",
              "14803   14804          Agra    Samsabad    Potato   Other   FAQ   \n",
              "14804   14805          Agra    Samsabad    Potato   Other   FAQ   \n",
              "14805   14806          Agra    Samsabad    Potato  F.A.Q.   FAQ   \n",
              "\n",
              "       Min Price (Rs./Quintal)  Max Price (Rs./Quintal)  \\\n",
              "0                          780                      870   \n",
              "1                          800                      880   \n",
              "2                          830                      930   \n",
              "3                          820                      920   \n",
              "4                          860                      940   \n",
              "...                        ...                      ...   \n",
              "14801                     1800                     1880   \n",
              "14802                     1580                     1799   \n",
              "14803                        0                        0   \n",
              "14804                        0                        0   \n",
              "14805                        0                        0   \n",
              "\n",
              "       Modal Price (Rs./Quintal) Price Date  \n",
              "0                            825 2022-03-30  \n",
              "1                            840 2022-03-29  \n",
              "2                            880 2022-03-28  \n",
              "3                            870 2022-03-27  \n",
              "4                            900 2022-03-26  \n",
              "...                          ...        ...  \n",
              "14801                       1840 2014-08-30  \n",
              "14802                       1600 2014-07-31  \n",
              "14803                       1500 2014-06-30  \n",
              "14804                       1300 2014-05-30  \n",
              "14805                        910 2014-03-29  \n",
              "\n",
              "[14806 rows x 10 columns]>"
            ]
          },
          "metadata": {},
          "execution_count": 9
        }
      ]
    },
    {
      "cell_type": "code",
      "source": [
        "df.drop_duplicates"
      ],
      "metadata": {
        "id": "Iz7XDNdCZs0p",
        "colab": {
          "base_uri": "https://localhost:8080/"
        },
        "outputId": "f8de033f-a0f1-4b82-cc9c-a34734845b59"
      },
      "execution_count": 10,
      "outputs": [
        {
          "output_type": "execute_result",
          "data": {
            "text/plain": [
              "<bound method DataFrame.drop_duplicates of        Sl no. District Name Market Name Commodity Variety Grade  \\\n",
              "0           1          Agra     Achnera    Potato    Desi   FAQ   \n",
              "1           2          Agra     Achnera    Potato    Desi   FAQ   \n",
              "2           3          Agra     Achnera    Potato    Desi   FAQ   \n",
              "3           4          Agra     Achnera    Potato    Desi   FAQ   \n",
              "4           5          Agra     Achnera    Potato    Desi   FAQ   \n",
              "...       ...           ...         ...       ...     ...   ...   \n",
              "14801   14802          Agra    Samsabad    Potato   Other   FAQ   \n",
              "14802   14803          Agra    Samsabad    Potato   Other   FAQ   \n",
              "14803   14804          Agra    Samsabad    Potato   Other   FAQ   \n",
              "14804   14805          Agra    Samsabad    Potato   Other   FAQ   \n",
              "14805   14806          Agra    Samsabad    Potato  F.A.Q.   FAQ   \n",
              "\n",
              "       Min Price (Rs./Quintal)  Max Price (Rs./Quintal)  \\\n",
              "0                          780                      870   \n",
              "1                          800                      880   \n",
              "2                          830                      930   \n",
              "3                          820                      920   \n",
              "4                          860                      940   \n",
              "...                        ...                      ...   \n",
              "14801                     1800                     1880   \n",
              "14802                     1580                     1799   \n",
              "14803                        0                        0   \n",
              "14804                        0                        0   \n",
              "14805                        0                        0   \n",
              "\n",
              "       Modal Price (Rs./Quintal) Price Date  \n",
              "0                            825 2022-03-30  \n",
              "1                            840 2022-03-29  \n",
              "2                            880 2022-03-28  \n",
              "3                            870 2022-03-27  \n",
              "4                            900 2022-03-26  \n",
              "...                          ...        ...  \n",
              "14801                       1840 2014-08-30  \n",
              "14802                       1600 2014-07-31  \n",
              "14803                       1500 2014-06-30  \n",
              "14804                       1300 2014-05-30  \n",
              "14805                        910 2014-03-29  \n",
              "\n",
              "[14806 rows x 10 columns]>"
            ]
          },
          "metadata": {},
          "execution_count": 10
        }
      ]
    },
    {
      "cell_type": "code",
      "source": [
        "sns.heatmap(df.corr())"
      ],
      "metadata": {
        "id": "4hONxVGCrZTE",
        "colab": {
          "base_uri": "https://localhost:8080/",
          "height": 400
        },
        "outputId": "144c3c3a-bab3-4459-bdfc-ec5c94b70834"
      },
      "execution_count": 11,
      "outputs": [
        {
          "output_type": "execute_result",
          "data": {
            "text/plain": [
              "<matplotlib.axes._subplots.AxesSubplot at 0x7fdb02456350>"
            ]
          },
          "metadata": {},
          "execution_count": 11
        },
        {
          "output_type": "display_data",
          "data": {
            "text/plain": [
              "<Figure size 432x288 with 2 Axes>"
            ],
            "image/png": "[encoded data removed]"
          },
          "metadata": {
            "needs_background": "light"
          }
        }
      ]
    },
    {
      "cell_type": "markdown",
      "source": [
        "# (A)"
      ],
      "metadata": {
        "id": "SZjBdrvxz2VZ"
      }
    },
    {
      "cell_type": "code",
      "source": [
        "df['Price Date']"
      ],
      "metadata": {
        "id": "3wm8y3pcteK3",
        "colab": {
          "base_uri": "https://localhost:8080/"
        },
        "outputId": "ea657d4b-03c7-4cfa-90a1-5bd9b2d4feae"
      },
      "execution_count": 12,
      "outputs": [
        {
          "output_type": "execute_result",
          "data": {
            "text/plain": [
              "0       2022-03-30\n",
              "1       2022-03-29\n",
              "2       2022-03-28\n",
              "3       2022-03-27\n",
              "4       2022-03-26\n",
              "           ...    \n",
              "14801   2014-08-30\n",
              "14802   2014-07-31\n",
              "14803   2014-06-30\n",
              "14804   2014-05-30\n",
              "14805   2014-03-29\n",
              "Name: Price Date, Length: 14806, dtype: datetime64[ns]"
            ]
          },
          "metadata": {},
          "execution_count": 12
        }
      ]
    },
    {
      "cell_type": "code",
      "source": [
        "df['Price Date'] = pd.to_datetime(df['Price Date'])"
      ],
      "metadata": {
        "id": "NnoaoYzRu4JV"
      },
      "execution_count": 13,
      "outputs": []
    },
    {
      "cell_type": "code",
      "source": [
        "df.head()"
      ],
      "metadata": {
        "id": "LIL0dzLqvbDC",
        "colab": {
          "base_uri": "https://localhost:8080/",
          "height": 206
        },
        "outputId": "b51d1775-bef5-4ce7-c63b-9be3f3faa06a"
      },
      "execution_count": 14,
      "outputs": [
        {
          "output_type": "execute_result",
          "data": {
            "text/plain": [
              "   Sl no. District Name Market Name Commodity Variety Grade  \\\n",
              "0       1          Agra     Achnera    Potato    Desi   FAQ   \n",
              "1       2          Agra     Achnera    Potato    Desi   FAQ   \n",
              "2       3          Agra     Achnera    Potato    Desi   FAQ   \n",
              "3       4          Agra     Achnera    Potato    Desi   FAQ   \n",
              "4       5          Agra     Achnera    Potato    Desi   FAQ   \n",
              "\n",
              "   Min Price (Rs./Quintal)  Max Price (Rs./Quintal)  \\\n",
              "0                      780                      870   \n",
              "1                      800                      880   \n",
              "2                      830                      930   \n",
              "3                      820                      920   \n",
              "4                      860                      940   \n",
              "\n",
              "   Modal Price (Rs./Quintal) Price Date  \n",
              "0                        825 2022-03-30  \n",
              "1                        840 2022-03-29  \n",
              "2                        880 2022-03-28  \n",
              "3                        870 2022-03-27  \n",
              "4                        900 2022-03-26  "
            ],
            "text/html": [
              "\n",
              "  <div id=\"df-dd1eff3b-38b1-4ebc-90d1-2fa8f4708945\">\n",
              "    <div class=\"colab-df-container\">\n",
              "      <div>\n",
              "<style scoped>\n",
              "    .dataframe tbody tr th:only-of-type {\n",
              "        vertical-align: middle;\n",
              "    }\n",
              "\n",
              "    .dataframe tbody tr th {\n",
              "        vertical-align: top;\n",
              "    }\n",
              "\n",
              "    .dataframe thead th {\n",
              "        text-align: right;\n",
              "    }\n",
              "</style>\n",
              "<table border=\"1\" class=\"dataframe\">\n",
              "  <thead>\n",
              "    <tr style=\"text-align: right;\">\n",
              "      <th></th>\n",
              "      <th>Sl no.</th>\n",
              "      <th>District Name</th>\n",
              "      <th>Market Name</th>\n",
              "      <th>Commodity</th>\n",
              "      <th>Variety</th>\n",
              "      <th>Grade</th>\n",
              "      <th>Min Price (Rs./Quintal)</th>\n",
              "      <th>Max Price (Rs./Quintal)</th>\n",
              "      <th>Modal Price (Rs./Quintal)</th>\n",
              "      <th>Price Date</th>\n",
              "    </tr>\n",
              "  </thead>\n",
              "  <tbody>\n",
              "    <tr>\n",
              "      <th>0</th>\n",
              "      <td>1</td>\n",
              "      <td>Agra</td>\n",
              "      <td>Achnera</td>\n",
              "      <td>Potato</td>\n",
              "      <td>Desi</td>\n",
              "      <td>FAQ</td>\n",
              "      <td>780</td>\n",
              "      <td>870</td>\n",
              "      <td>825</td>\n",
              "      <td>2022-03-30</td>\n",
              "    </tr>\n",
              "    <tr>\n",
              "      <th>1</th>\n",
              "      <td>2</td>\n",
              "      <td>Agra</td>\n",
              "      <td>Achnera</td>\n",
              "      <td>Potato</td>\n",
              "      <td>Desi</td>\n",
              "      <td>FAQ</td>\n",
              "      <td>800</td>\n",
              "      <td>880</td>\n",
              "      <td>840</td>\n",
              "      <td>2022-03-29</td>\n",
              "    </tr>\n",
              "    <tr>\n",
              "      <th>2</th>\n",
              "      <td>3</td>\n",
              "      <td>Agra</td>\n",
              "      <td>Achnera</td>\n",
              "      <td>Potato</td>\n",
              "      <td>Desi</td>\n",
              "      <td>FAQ</td>\n",
              "      <td>830</td>\n",
              "      <td>930</td>\n",
              "      <td>880</td>\n",
              "      <td>2022-03-28</td>\n",
              "    </tr>\n",
              "    <tr>\n",
              "      <th>3</th>\n",
              "      <td>4</td>\n",
              "      <td>Agra</td>\n",
              "      <td>Achnera</td>\n",
              "      <td>Potato</td>\n",
              "      <td>Desi</td>\n",
              "      <td>FAQ</td>\n",
              "      <td>820</td>\n",
              "      <td>920</td>\n",
              "      <td>870</td>\n",
              "      <td>2022-03-27</td>\n",
              "    </tr>\n",
              "    <tr>\n",
              "      <th>4</th>\n",
              "      <td>5</td>\n",
              "      <td>Agra</td>\n",
              "      <td>Achnera</td>\n",
              "      <td>Potato</td>\n",
              "      <td>Desi</td>\n",
              "      <td>FAQ</td>\n",
              "      <td>860</td>\n",
              "      <td>940</td>\n",
              "      <td>900</td>\n",
              "      <td>2022-03-26</td>\n",
              "    </tr>\n",
              "  </tbody>\n",
              "</table>\n",
              "</div>\n",
              "      <button class=\"colab-df-convert\" onclick=\"convertToInteractive('df-dd1eff3b-38b1-4ebc-90d1-2fa8f4708945')\"\n",
              "              title=\"Convert this dataframe to an interactive table.\"\n",
              "              style=\"display:none;\">\n",
              "        \n",
              "  <svg xmlns=\"http://www.w3.org/2000/svg\" height=\"24px\"viewBox=\"0 0 24 24\"\n",
              "       width=\"24px\">\n",
              "    <path d=\"M0 0h24v24H0V0z\" fill=\"none\"/>\n",
              "    <path d=\"M18.56 5.44l.94 2.06.94-2.06 2.06-.94-2.06-.94-.94-2.06-.94 2.06-2.06.94zm-11 1L8.5 8.5l.94-2.06 2.06-.94-2.06-.94L8.5 2.5l-.94 2.06-2.06.94zm10 10l.94 2.06.94-2.06 2.06-.94-2.06-.94-.94-2.06-.94 2.06-2.06.94z\"/><path d=\"M17.41 7.96l-1.37-1.37c-.4-.4-.92-.59-1.43-.59-.52 0-1.04.2-1.43.59L10.3 9.45l-7.72 7.72c-.78.78-.78 2.05 0 2.83L4 21.41c.39.39.9.59 1.41.59.51 0 1.02-.2 1.41-.59l7.78-7.78 2.81-2.81c.8-.78.8-2.07 0-2.86zM5.41 20L4 18.59l7.72-7.72 1.47 1.35L5.41 20z\"/>\n",
              "  </svg>\n",
              "      </button>\n",
              "      \n",
              "  <style>\n",
              "    .colab-df-container {\n",
              "      display:flex;\n",
              "      flex-wrap:wrap;\n",
              "      gap: 12px;\n",
              "    }\n",
              "\n",
              "    .colab-df-convert {\n",
              "      background-color: #E8F0FE;\n",
              "      border: none;\n",
              "      border-radius: 50%;\n",
              "      cursor: pointer;\n",
              "      display: none;\n",
              "      fill: #1967D2;\n",
              "      height: 32px;\n",
              "      padding: 0 0 0 0;\n",
              "      width: 32px;\n",
              "    }\n",
              "\n",
              "    .colab-df-convert:hover {\n",
              "      background-color: #E2EBFA;\n",
              "      box-shadow: 0px 1px 2px rgba(60, 64, 67, 0.3), 0px 1px 3px 1px rgba(60, 64, 67, 0.15);\n",
              "      fill: #174EA6;\n",
              "    }\n",
              "\n",
              "    [theme=dark] .colab-df-convert {\n",
              "      background-color: #3B4455;\n",
              "      fill: #D2E3FC;\n",
              "    }\n",
              "\n",
              "    [theme=dark] .colab-df-convert:hover {\n",
              "      background-color: #434B5C;\n",
              "      box-shadow: 0px 1px 3px 1px rgba(0, 0, 0, 0.15);\n",
              "      filter: drop-shadow(0px 1px 2px rgba(0, 0, 0, 0.3));\n",
              "      fill: #FFFFFF;\n",
              "    }\n",
              "  </style>\n",
              "\n",
              "      <script>\n",
              "        const buttonEl =\n",
              "          document.querySelector('#df-dd1eff3b-38b1-4ebc-90d1-2fa8f4708945 button.colab-df-convert');\n",
              "        buttonEl.style.display =\n",
              "          google.colab.kernel.accessAllowed ? 'block' : 'none';\n",
              "\n",
              "        async function convertToInteractive(key) {\n",
              "          const element = document.querySelector('#df-dd1eff3b-38b1-4ebc-90d1-2fa8f4708945');\n",
              "          const dataTable =\n",
              "            await google.colab.kernel.invokeFunction('convertToInteractive',\n",
              "                                                     [key], {});\n",
              "          if (!dataTable) return;\n",
              "\n",
              "          const docLinkHtml = 'Like what you see? Visit the ' +\n",
              "            '<a target=\"_blank\" href=https://colab.research.google.com/notebooks/data_table.ipynb>data table notebook</a>'\n",
              "            + ' to learn more about interactive tables.';\n",
              "          element.innerHTML = '';\n",
              "          dataTable['output_type'] = 'display_data';\n",
              "          await google.colab.output.renderOutput(dataTable, element);\n",
              "          const docLink = document.createElement('div');\n",
              "          docLink.innerHTML = docLinkHtml;\n",
              "          element.appendChild(docLink);\n",
              "        }\n",
              "      </script>\n",
              "    </div>\n",
              "  </div>\n",
              "  "
            ]
          },
          "metadata": {},
          "execution_count": 14
        }
      ]
    },
    {
      "cell_type": "code",
      "source": [
        "df = df.sort_values(by='Price Date')"
      ],
      "metadata": {
        "id": "UXaOzENwvlrU"
      },
      "execution_count": 15,
      "outputs": []
    },
    {
      "cell_type": "code",
      "source": [
        "df.head()"
      ],
      "metadata": {
        "id": "RqfncHJdvx_d",
        "colab": {
          "base_uri": "https://localhost:8080/",
          "height": 206
        },
        "outputId": "fa31ea8e-373a-47a7-c821-462ab8a50718"
      },
      "execution_count": 16,
      "outputs": [
        {
          "output_type": "execute_result",
          "data": {
            "text/plain": [
              "       Sl no. District Name     Market Name Commodity Variety Grade  \\\n",
              "1933     1934          Agra         Achnera    Potato   Other   FAQ   \n",
              "10009   10010          Agra         Jagnair    Potato   Other   FAQ   \n",
              "13806   13807          Agra      Khairagarh    Potato   Other   FAQ   \n",
              "8348     8349          Agra  Fatehpur Sikri    Potato   Other   FAQ   \n",
              "1932     1933          Agra         Achnera    Potato   Other   FAQ   \n",
              "\n",
              "       Min Price (Rs./Quintal)  Max Price (Rs./Quintal)  \\\n",
              "1933                       320                      400   \n",
              "10009                      330                      400   \n",
              "13806                      500                      600   \n",
              "8348                       290                      315   \n",
              "1932                       300                      400   \n",
              "\n",
              "       Modal Price (Rs./Quintal) Price Date  \n",
              "1933                         370 2011-01-01  \n",
              "10009                        350 2011-01-01  \n",
              "13806                        550 2011-01-01  \n",
              "8348                         300 2011-01-01  \n",
              "1932                         360 2011-01-02  "
            ],
            "text/html": [
              "\n",
              "  <div id=\"df-19b6952a-6138-4b86-946a-962c53b88ef8\">\n",
              "    <div class=\"colab-df-container\">\n",
              "      <div>\n",
              "<style scoped>\n",
              "    .dataframe tbody tr th:only-of-type {\n",
              "        vertical-align: middle;\n",
              "    }\n",
              "\n",
              "    .dataframe tbody tr th {\n",
              "        vertical-align: top;\n",
              "    }\n",
              "\n",
              "    .dataframe thead th {\n",
              "        text-align: right;\n",
              "    }\n",
              "</style>\n",
              "<table border=\"1\" class=\"dataframe\">\n",
              "  <thead>\n",
              "    <tr style=\"text-align: right;\">\n",
              "      <th></th>\n",
              "      <th>Sl no.</th>\n",
              "      <th>District Name</th>\n",
              "      <th>Market Name</th>\n",
              "      <th>Commodity</th>\n",
              "      <th>Variety</th>\n",
              "      <th>Grade</th>\n",
              "      <th>Min Price (Rs./Quintal)</th>\n",
              "      <th>Max Price (Rs./Quintal)</th>\n",
              "      <th>Modal Price (Rs./Quintal)</th>\n",
              "      <th>Price Date</th>\n",
              "    </tr>\n",
              "  </thead>\n",
              "  <tbody>\n",
              "    <tr>\n",
              "      <th>1933</th>\n",
              "      <td>1934</td>\n",
              "      <td>Agra</td>\n",
              "      <td>Achnera</td>\n",
              "      <td>Potato</td>\n",
              "      <td>Other</td>\n",
              "      <td>FAQ</td>\n",
              "      <td>320</td>\n",
              "      <td>400</td>\n",
              "      <td>370</td>\n",
              "      <td>2011-01-01</td>\n",
              "    </tr>\n",
              "    <tr>\n",
              "      <th>10009</th>\n",
              "      <td>10010</td>\n",
              "      <td>Agra</td>\n",
              "      <td>Jagnair</td>\n",
              "      <td>Potato</td>\n",
              "      <td>Other</td>\n",
              "      <td>FAQ</td>\n",
              "      <td>330</td>\n",
              "      <td>400</td>\n",
              "      <td>350</td>\n",
              "      <td>2011-01-01</td>\n",
              "    </tr>\n",
              "    <tr>\n",
              "      <th>13806</th>\n",
              "      <td>13807</td>\n",
              "      <td>Agra</td>\n",
              "      <td>Khairagarh</td>\n",
              "      <td>Potato</td>\n",
              "      <td>Other</td>\n",
              "      <td>FAQ</td>\n",
              "      <td>500</td>\n",
              "      <td>600</td>\n",
              "      <td>550</td>\n",
              "      <td>2011-01-01</td>\n",
              "    </tr>\n",
              "    <tr>\n",
              "      <th>8348</th>\n",
              "      <td>8349</td>\n",
              "      <td>Agra</td>\n",
              "      <td>Fatehpur Sikri</td>\n",
              "      <td>Potato</td>\n",
              "      <td>Other</td>\n",
              "      <td>FAQ</td>\n",
              "      <td>290</td>\n",
              "      <td>315</td>\n",
              "      <td>300</td>\n",
              "      <td>2011-01-01</td>\n",
              "    </tr>\n",
              "    <tr>\n",
              "      <th>1932</th>\n",
              "      <td>1933</td>\n",
              "      <td>Agra</td>\n",
              "      <td>Achnera</td>\n",
              "      <td>Potato</td>\n",
              "      <td>Other</td>\n",
              "      <td>FAQ</td>\n",
              "      <td>300</td>\n",
              "      <td>400</td>\n",
              "      <td>360</td>\n",
              "      <td>2011-01-02</td>\n",
              "    </tr>\n",
              "  </tbody>\n",
              "</table>\n",
              "</div>\n",
              "      <button class=\"colab-df-convert\" onclick=\"convertToInteractive('df-19b6952a-6138-4b86-946a-962c53b88ef8')\"\n",
              "              title=\"Convert this dataframe to an interactive table.\"\n",
              "              style=\"display:none;\">\n",
              "        \n",
              "  <svg xmlns=\"http://www.w3.org/2000/svg\" height=\"24px\"viewBox=\"0 0 24 24\"\n",
              "       width=\"24px\">\n",
              "    <path d=\"M0 0h24v24H0V0z\" fill=\"none\"/>\n",
              "    <path d=\"M18.56 5.44l.94 2.06.94-2.06 2.06-.94-2.06-.94-.94-2.06-.94 2.06-2.06.94zm-11 1L8.5 8.5l.94-2.06 2.06-.94-2.06-.94L8.5 2.5l-.94 2.06-2.06.94zm10 10l.94 2.06.94-2.06 2.06-.94-2.06-.94-.94-2.06-.94 2.06-2.06.94z\"/><path d=\"M17.41 7.96l-1.37-1.37c-.4-.4-.92-.59-1.43-.59-.52 0-1.04.2-1.43.59L10.3 9.45l-7.72 7.72c-.78.78-.78 2.05 0 2.83L4 21.41c.39.39.9.59 1.41.59.51 0 1.02-.2 1.41-.59l7.78-7.78 2.81-2.81c.8-.78.8-2.07 0-2.86zM5.41 20L4 18.59l7.72-7.72 1.47 1.35L5.41 20z\"/>\n",
              "  </svg>\n",
              "      </button>\n",
              "      \n",
              "  <style>\n",
              "    .colab-df-container {\n",
              "      display:flex;\n",
              "      flex-wrap:wrap;\n",
              "      gap: 12px;\n",
              "    }\n",
              "\n",
              "    .colab-df-convert {\n",
              "      background-color: #E8F0FE;\n",
              "      border: none;\n",
              "      border-radius: 50%;\n",
              "      cursor: pointer;\n",
              "      display: none;\n",
              "      fill: #1967D2;\n",
              "      height: 32px;\n",
              "      padding: 0 0 0 0;\n",
              "      width: 32px;\n",
              "    }\n",
              "\n",
              "    .colab-df-convert:hover {\n",
              "      background-color: #E2EBFA;\n",
              "      box-shadow: 0px 1px 2px rgba(60, 64, 67, 0.3), 0px 1px 3px 1px rgba(60, 64, 67, 0.15);\n",
              "      fill: #174EA6;\n",
              "    }\n",
              "\n",
              "    [theme=dark] .colab-df-convert {\n",
              "      background-color: #3B4455;\n",
              "      fill: #D2E3FC;\n",
              "    }\n",
              "\n",
              "    [theme=dark] .colab-df-convert:hover {\n",
              "      background-color: #434B5C;\n",
              "      box-shadow: 0px 1px 3px 1px rgba(0, 0, 0, 0.15);\n",
              "      filter: drop-shadow(0px 1px 2px rgba(0, 0, 0, 0.3));\n",
              "      fill: #FFFFFF;\n",
              "    }\n",
              "  </style>\n",
              "\n",
              "      <script>\n",
              "        const buttonEl =\n",
              "          document.querySelector('#df-19b6952a-6138-4b86-946a-962c53b88ef8 button.colab-df-convert');\n",
              "        buttonEl.style.display =\n",
              "          google.colab.kernel.accessAllowed ? 'block' : 'none';\n",
              "\n",
              "        async function convertToInteractive(key) {\n",
              "          const element = document.querySelector('#df-19b6952a-6138-4b86-946a-962c53b88ef8');\n",
              "          const dataTable =\n",
              "            await google.colab.kernel.invokeFunction('convertToInteractive',\n",
              "                                                     [key], {});\n",
              "          if (!dataTable) return;\n",
              "\n",
              "          const docLinkHtml = 'Like what you see? Visit the ' +\n",
              "            '<a target=\"_blank\" href=https://colab.research.google.com/notebooks/data_table.ipynb>data table notebook</a>'\n",
              "            + ' to learn more about interactive tables.';\n",
              "          element.innerHTML = '';\n",
              "          dataTable['output_type'] = 'display_data';\n",
              "          await google.colab.output.renderOutput(dataTable, element);\n",
              "          const docLink = document.createElement('div');\n",
              "          docLink.innerHTML = docLinkHtml;\n",
              "          element.appendChild(docLink);\n",
              "        }\n",
              "      </script>\n",
              "    </div>\n",
              "  </div>\n",
              "  "
            ]
          },
          "metadata": {},
          "execution_count": 16
        }
      ]
    },
    {
      "cell_type": "code",
      "source": [
        "df.tail()"
      ],
      "metadata": {
        "id": "imqNT64qv0wI",
        "colab": {
          "base_uri": "https://localhost:8080/",
          "height": 206
        },
        "outputId": "3fa49cf3-65e5-4a84-9f7a-72c3a4d545de"
      },
      "execution_count": 17,
      "outputs": [
        {
          "output_type": "execute_result",
          "data": {
            "text/plain": [
              "       Sl no. District Name     Market Name Commodity Variety Grade  \\\n",
              "6565     6566          Agra  Fatehpur Sikri    Potato   Local   FAQ   \n",
              "10882   10883          Agra      Khairagarh    Potato    Desi   FAQ   \n",
              "8349     8350          Agra         Jagnair    Potato    Desi   FAQ   \n",
              "1934     1935          Agra            Agra    Potato    Desi   FAQ   \n",
              "6564     6565          Agra  Fatehpur Sikri    Potato   Local   FAQ   \n",
              "\n",
              "       Min Price (Rs./Quintal)  Max Price (Rs./Quintal)  \\\n",
              "6565                       700                      950   \n",
              "10882                      750                      850   \n",
              "8349                       850                      950   \n",
              "1934                       750                      950   \n",
              "6564                       700                     1000   \n",
              "\n",
              "       Modal Price (Rs./Quintal) Price Date  \n",
              "6565                         810 2022-03-30  \n",
              "10882                        800 2022-03-30  \n",
              "8349                         900 2022-03-31  \n",
              "1934                         850 2022-03-31  \n",
              "6564                         830 2022-03-31  "
            ],
            "text/html": [
              "\n",
              "  <div id=\"df-74eb55c6-d4e0-47dd-b214-b9634564f7b4\">\n",
              "    <div class=\"colab-df-container\">\n",
              "      <div>\n",
              "<style scoped>\n",
              "    .dataframe tbody tr th:only-of-type {\n",
              "        vertical-align: middle;\n",
              "    }\n",
              "\n",
              "    .dataframe tbody tr th {\n",
              "        vertical-align: top;\n",
              "    }\n",
              "\n",
              "    .dataframe thead th {\n",
              "        text-align: right;\n",
              "    }\n",
              "</style>\n",
              "<table border=\"1\" class=\"dataframe\">\n",
              "  <thead>\n",
              "    <tr style=\"text-align: right;\">\n",
              "      <th></th>\n",
              "      <th>Sl no.</th>\n",
              "      <th>District Name</th>\n",
              "      <th>Market Name</th>\n",
              "      <th>Commodity</th>\n",
              "      <th>Variety</th>\n",
              "      <th>Grade</th>\n",
              "      <th>Min Price (Rs./Quintal)</th>\n",
              "      <th>Max Price (Rs./Quintal)</th>\n",
              "      <th>Modal Price (Rs./Quintal)</th>\n",
              "      <th>Price Date</th>\n",
              "    </tr>\n",
              "  </thead>\n",
              "  <tbody>\n",
              "    <tr>\n",
              "      <th>6565</th>\n",
              "      <td>6566</td>\n",
              "      <td>Agra</td>\n",
              "      <td>Fatehpur Sikri</td>\n",
              "      <td>Potato</td>\n",
              "      <td>Local</td>\n",
              "      <td>FAQ</td>\n",
              "      <td>700</td>\n",
              "      <td>950</td>\n",
              "      <td>810</td>\n",
              "      <td>2022-03-30</td>\n",
              "    </tr>\n",
              "    <tr>\n",
              "      <th>10882</th>\n",
              "      <td>10883</td>\n",
              "      <td>Agra</td>\n",
              "      <td>Khairagarh</td>\n",
              "      <td>Potato</td>\n",
              "      <td>Desi</td>\n",
              "      <td>FAQ</td>\n",
              "      <td>750</td>\n",
              "      <td>850</td>\n",
              "      <td>800</td>\n",
              "      <td>2022-03-30</td>\n",
              "    </tr>\n",
              "    <tr>\n",
              "      <th>8349</th>\n",
              "      <td>8350</td>\n",
              "      <td>Agra</td>\n",
              "      <td>Jagnair</td>\n",
              "      <td>Potato</td>\n",
              "      <td>Desi</td>\n",
              "      <td>FAQ</td>\n",
              "      <td>850</td>\n",
              "      <td>950</td>\n",
              "      <td>900</td>\n",
              "      <td>2022-03-31</td>\n",
              "    </tr>\n",
              "    <tr>\n",
              "      <th>1934</th>\n",
              "      <td>1935</td>\n",
              "      <td>Agra</td>\n",
              "      <td>Agra</td>\n",
              "      <td>Potato</td>\n",
              "      <td>Desi</td>\n",
              "      <td>FAQ</td>\n",
              "      <td>750</td>\n",
              "      <td>950</td>\n",
              "      <td>850</td>\n",
              "      <td>2022-03-31</td>\n",
              "    </tr>\n",
              "    <tr>\n",
              "      <th>6564</th>\n",
              "      <td>6565</td>\n",
              "      <td>Agra</td>\n",
              "      <td>Fatehpur Sikri</td>\n",
              "      <td>Potato</td>\n",
              "      <td>Local</td>\n",
              "      <td>FAQ</td>\n",
              "      <td>700</td>\n",
              "      <td>1000</td>\n",
              "      <td>830</td>\n",
              "      <td>2022-03-31</td>\n",
              "    </tr>\n",
              "  </tbody>\n",
              "</table>\n",
              "</div>\n",
              "      <button class=\"colab-df-convert\" onclick=\"convertToInteractive('df-74eb55c6-d4e0-47dd-b214-b9634564f7b4')\"\n",
              "              title=\"Convert this dataframe to an interactive table.\"\n",
              "              style=\"display:none;\">\n",
              "        \n",
              "  <svg xmlns=\"http://www.w3.org/2000/svg\" height=\"24px\"viewBox=\"0 0 24 24\"\n",
              "       width=\"24px\">\n",
              "    <path d=\"M0 0h24v24H0V0z\" fill=\"none\"/>\n",
              "    <path d=\"M18.56 5.44l.94 2.06.94-2.06 2.06-.94-2.06-.94-.94-2.06-.94 2.06-2.06.94zm-11 1L8.5 8.5l.94-2.06 2.06-.94-2.06-.94L8.5 2.5l-.94 2.06-2.06.94zm10 10l.94 2.06.94-2.06 2.06-.94-2.06-.94-.94-2.06-.94 2.06-2.06.94z\"/><path d=\"M17.41 7.96l-1.37-1.37c-.4-.4-.92-.59-1.43-.59-.52 0-1.04.2-1.43.59L10.3 9.45l-7.72 7.72c-.78.78-.78 2.05 0 2.83L4 21.41c.39.39.9.59 1.41.59.51 0 1.02-.2 1.41-.59l7.78-7.78 2.81-2.81c.8-.78.8-2.07 0-2.86zM5.41 20L4 18.59l7.72-7.72 1.47 1.35L5.41 20z\"/>\n",
              "  </svg>\n",
              "      </button>\n",
              "      \n",
              "  <style>\n",
              "    .colab-df-container {\n",
              "      display:flex;\n",
              "      flex-wrap:wrap;\n",
              "      gap: 12px;\n",
              "    }\n",
              "\n",
              "    .colab-df-convert {\n",
              "      background-color: #E8F0FE;\n",
              "      border: none;\n",
              "      border-radius: 50%;\n",
              "      cursor: pointer;\n",
              "      display: none;\n",
              "      fill: #1967D2;\n",
              "      height: 32px;\n",
              "      padding: 0 0 0 0;\n",
              "      width: 32px;\n",
              "    }\n",
              "\n",
              "    .colab-df-convert:hover {\n",
              "      background-color: #E2EBFA;\n",
              "      box-shadow: 0px 1px 2px rgba(60, 64, 67, 0.3), 0px 1px 3px 1px rgba(60, 64, 67, 0.15);\n",
              "      fill: #174EA6;\n",
              "    }\n",
              "\n",
              "    [theme=dark] .colab-df-convert {\n",
              "      background-color: #3B4455;\n",
              "      fill: #D2E3FC;\n",
              "    }\n",
              "\n",
              "    [theme=dark] .colab-df-convert:hover {\n",
              "      background-color: #434B5C;\n",
              "      box-shadow: 0px 1px 3px 1px rgba(0, 0, 0, 0.15);\n",
              "      filter: drop-shadow(0px 1px 2px rgba(0, 0, 0, 0.3));\n",
              "      fill: #FFFFFF;\n",
              "    }\n",
              "  </style>\n",
              "\n",
              "      <script>\n",
              "        const buttonEl =\n",
              "          document.querySelector('#df-74eb55c6-d4e0-47dd-b214-b9634564f7b4 button.colab-df-convert');\n",
              "        buttonEl.style.display =\n",
              "          google.colab.kernel.accessAllowed ? 'block' : 'none';\n",
              "\n",
              "        async function convertToInteractive(key) {\n",
              "          const element = document.querySelector('#df-74eb55c6-d4e0-47dd-b214-b9634564f7b4');\n",
              "          const dataTable =\n",
              "            await google.colab.kernel.invokeFunction('convertToInteractive',\n",
              "                                                     [key], {});\n",
              "          if (!dataTable) return;\n",
              "\n",
              "          const docLinkHtml = 'Like what you see? Visit the ' +\n",
              "            '<a target=\"_blank\" href=https://colab.research.google.com/notebooks/data_table.ipynb>data table notebook</a>'\n",
              "            + ' to learn more about interactive tables.';\n",
              "          element.innerHTML = '';\n",
              "          dataTable['output_type'] = 'display_data';\n",
              "          await google.colab.output.renderOutput(dataTable, element);\n",
              "          const docLink = document.createElement('div');\n",
              "          docLink.innerHTML = docLinkHtml;\n",
              "          element.appendChild(docLink);\n",
              "        }\n",
              "      </script>\n",
              "    </div>\n",
              "  </div>\n",
              "  "
            ]
          },
          "metadata": {},
          "execution_count": 17
        }
      ]
    },
    {
      "cell_type": "code",
      "source": [
        "df"
      ],
      "metadata": {
        "id": "Rn61x9wWx2jO",
        "colab": {
          "base_uri": "https://localhost:8080/",
          "height": 423
        },
        "outputId": "12f553d9-054e-4e29-af3b-8a80cc4b5f6f"
      },
      "execution_count": 18,
      "outputs": [
        {
          "output_type": "execute_result",
          "data": {
            "text/plain": [
              "       Sl no. District Name     Market Name Commodity Variety Grade  \\\n",
              "1933     1934          Agra         Achnera    Potato   Other   FAQ   \n",
              "10009   10010          Agra         Jagnair    Potato   Other   FAQ   \n",
              "13806   13807          Agra      Khairagarh    Potato   Other   FAQ   \n",
              "8348     8349          Agra  Fatehpur Sikri    Potato   Other   FAQ   \n",
              "1932     1933          Agra         Achnera    Potato   Other   FAQ   \n",
              "...       ...           ...             ...       ...     ...   ...   \n",
              "6565     6566          Agra  Fatehpur Sikri    Potato   Local   FAQ   \n",
              "10882   10883          Agra      Khairagarh    Potato    Desi   FAQ   \n",
              "8349     8350          Agra         Jagnair    Potato    Desi   FAQ   \n",
              "1934     1935          Agra            Agra    Potato    Desi   FAQ   \n",
              "6564     6565          Agra  Fatehpur Sikri    Potato   Local   FAQ   \n",
              "\n",
              "       Min Price (Rs./Quintal)  Max Price (Rs./Quintal)  \\\n",
              "1933                       320                      400   \n",
              "10009                      330                      400   \n",
              "13806                      500                      600   \n",
              "8348                       290                      315   \n",
              "1932                       300                      400   \n",
              "...                        ...                      ...   \n",
              "6565                       700                      950   \n",
              "10882                      750                      850   \n",
              "8349                       850                      950   \n",
              "1934                       750                      950   \n",
              "6564                       700                     1000   \n",
              "\n",
              "       Modal Price (Rs./Quintal) Price Date  \n",
              "1933                         370 2011-01-01  \n",
              "10009                        350 2011-01-01  \n",
              "13806                        550 2011-01-01  \n",
              "8348                         300 2011-01-01  \n",
              "1932                         360 2011-01-02  \n",
              "...                          ...        ...  \n",
              "6565                         810 2022-03-30  \n",
              "10882                        800 2022-03-30  \n",
              "8349                         900 2022-03-31  \n",
              "1934                         850 2022-03-31  \n",
              "6564                         830 2022-03-31  \n",
              "\n",
              "[14806 rows x 10 columns]"
            ],
            "text/html": [
              "\n",
              "  <div id=\"df-f1853e54-8d9c-428d-a662-e525d0818bb1\">\n",
              "    <div class=\"colab-df-container\">\n",
              "      <div>\n",
              "<style scoped>\n",
              "    .dataframe tbody tr th:only-of-type {\n",
              "        vertical-align: middle;\n",
              "    }\n",
              "\n",
              "    .dataframe tbody tr th {\n",
              "        vertical-align: top;\n",
              "    }\n",
              "\n",
              "    .dataframe thead th {\n",
              "        text-align: right;\n",
              "    }\n",
              "</style>\n",
              "<table border=\"1\" class=\"dataframe\">\n",
              "  <thead>\n",
              "    <tr style=\"text-align: right;\">\n",
              "      <th></th>\n",
              "      <th>Sl no.</th>\n",
              "      <th>District Name</th>\n",
              "      <th>Market Name</th>\n",
              "      <th>Commodity</th>\n",
              "      <th>Variety</th>\n",
              "      <th>Grade</th>\n",
              "      <th>Min Price (Rs./Quintal)</th>\n",
              "      <th>Max Price (Rs./Quintal)</th>\n",
              "      <th>Modal Price (Rs./Quintal)</th>\n",
              "      <th>Price Date</th>\n",
              "    </tr>\n",
              "  </thead>\n",
              "  <tbody>\n",
              "    <tr>\n",
              "      <th>1933</th>\n",
              "      <td>1934</td>\n",
              "      <td>Agra</td>\n",
              "      <td>Achnera</td>\n",
              "      <td>Potato</td>\n",
              "      <td>Other</td>\n",
              "      <td>FAQ</td>\n",
              "      <td>320</td>\n",
              "      <td>400</td>\n",
              "      <td>370</td>\n",
              "      <td>2011-01-01</td>\n",
              "    </tr>\n",
              "    <tr>\n",
              "      <th>10009</th>\n",
              "      <td>10010</td>\n",
              "      <td>Agra</td>\n",
              "      <td>Jagnair</td>\n",
              "      <td>Potato</td>\n",
              "      <td>Other</td>\n",
              "      <td>FAQ</td>\n",
              "      <td>330</td>\n",
              "      <td>400</td>\n",
              "      <td>350</td>\n",
              "      <td>2011-01-01</td>\n",
              "    </tr>\n",
              "    <tr>\n",
              "      <th>13806</th>\n",
              "      <td>13807</td>\n",
              "      <td>Agra</td>\n",
              "      <td>Khairagarh</td>\n",
              "      <td>Potato</td>\n",
              "      <td>Other</td>\n",
              "      <td>FAQ</td>\n",
              "      <td>500</td>\n",
              "      <td>600</td>\n",
              "      <td>550</td>\n",
              "      <td>2011-01-01</td>\n",
              "    </tr>\n",
              "    <tr>\n",
              "      <th>8348</th>\n",
              "      <td>8349</td>\n",
              "      <td>Agra</td>\n",
              "      <td>Fatehpur Sikri</td>\n",
              "      <td>Potato</td>\n",
              "      <td>Other</td>\n",
              "      <td>FAQ</td>\n",
              "      <td>290</td>\n",
              "      <td>315</td>\n",
              "      <td>300</td>\n",
              "      <td>2011-01-01</td>\n",
              "    </tr>\n",
              "    <tr>\n",
              "      <th>1932</th>\n",
              "      <td>1933</td>\n",
              "      <td>Agra</td>\n",
              "      <td>Achnera</td>\n",
              "      <td>Potato</td>\n",
              "      <td>Other</td>\n",
              "      <td>FAQ</td>\n",
              "      <td>300</td>\n",
              "      <td>400</td>\n",
              "      <td>360</td>\n",
              "      <td>2011-01-02</td>\n",
              "    </tr>\n",
              "    <tr>\n",
              "      <th>...</th>\n",
              "      <td>...</td>\n",
              "      <td>...</td>\n",
              "      <td>...</td>\n",
              "      <td>...</td>\n",
              "      <td>...</td>\n",
              "      <td>...</td>\n",
              "      <td>...</td>\n",
              "      <td>...</td>\n",
              "      <td>...</td>\n",
              "      <td>...</td>\n",
              "    </tr>\n",
              "    <tr>\n",
              "      <th>6565</th>\n",
              "      <td>6566</td>\n",
              "      <td>Agra</td>\n",
              "      <td>Fatehpur Sikri</td>\n",
              "      <td>Potato</td>\n",
              "      <td>Local</td>\n",
              "      <td>FAQ</td>\n",
              "      <td>700</td>\n",
              "      <td>950</td>\n",
              "      <td>810</td>\n",
              "      <td>2022-03-30</td>\n",
              "    </tr>\n",
              "    <tr>\n",
              "      <th>10882</th>\n",
              "      <td>10883</td>\n",
              "      <td>Agra</td>\n",
              "      <td>Khairagarh</td>\n",
              "      <td>Potato</td>\n",
              "      <td>Desi</td>\n",
              "      <td>FAQ</td>\n",
              "      <td>750</td>\n",
              "      <td>850</td>\n",
              "      <td>800</td>\n",
              "      <td>2022-03-30</td>\n",
              "    </tr>\n",
              "    <tr>\n",
              "      <th>8349</th>\n",
              "      <td>8350</td>\n",
              "      <td>Agra</td>\n",
              "      <td>Jagnair</td>\n",
              "      <td>Potato</td>\n",
              "      <td>Desi</td>\n",
              "      <td>FAQ</td>\n",
              "      <td>850</td>\n",
              "      <td>950</td>\n",
              "      <td>900</td>\n",
              "      <td>2022-03-31</td>\n",
              "    </tr>\n",
              "    <tr>\n",
              "      <th>1934</th>\n",
              "      <td>1935</td>\n",
              "      <td>Agra</td>\n",
              "      <td>Agra</td>\n",
              "      <td>Potato</td>\n",
              "      <td>Desi</td>\n",
              "      <td>FAQ</td>\n",
              "      <td>750</td>\n",
              "      <td>950</td>\n",
              "      <td>850</td>\n",
              "      <td>2022-03-31</td>\n",
              "    </tr>\n",
              "    <tr>\n",
              "      <th>6564</th>\n",
              "      <td>6565</td>\n",
              "      <td>Agra</td>\n",
              "      <td>Fatehpur Sikri</td>\n",
              "      <td>Potato</td>\n",
              "      <td>Local</td>\n",
              "      <td>FAQ</td>\n",
              "      <td>700</td>\n",
              "      <td>1000</td>\n",
              "      <td>830</td>\n",
              "      <td>2022-03-31</td>\n",
              "    </tr>\n",
              "  </tbody>\n",
              "</table>\n",
              "<p>14806 rows × 10 columns</p>\n",
              "</div>\n",
              "      <button class=\"colab-df-convert\" onclick=\"convertToInteractive('df-f1853e54-8d9c-428d-a662-e525d0818bb1')\"\n",
              "              title=\"Convert this dataframe to an interactive table.\"\n",
              "              style=\"display:none;\">\n",
              "        \n",
              "  <svg xmlns=\"http://www.w3.org/2000/svg\" height=\"24px\"viewBox=\"0 0 24 24\"\n",
              "       width=\"24px\">\n",
              "    <path d=\"M0 0h24v24H0V0z\" fill=\"none\"/>\n",
              "    <path d=\"M18.56 5.44l.94 2.06.94-2.06 2.06-.94-2.06-.94-.94-2.06-.94 2.06-2.06.94zm-11 1L8.5 8.5l.94-2.06 2.06-.94-2.06-.94L8.5 2.5l-.94 2.06-2.06.94zm10 10l.94 2.06.94-2.06 2.06-.94-2.06-.94-.94-2.06-.94 2.06-2.06.94z\"/><path d=\"M17.41 7.96l-1.37-1.37c-.4-.4-.92-.59-1.43-.59-.52 0-1.04.2-1.43.59L10.3 9.45l-7.72 7.72c-.78.78-.78 2.05 0 2.83L4 21.41c.39.39.9.59 1.41.59.51 0 1.02-.2 1.41-.59l7.78-7.78 2.81-2.81c.8-.78.8-2.07 0-2.86zM5.41 20L4 18.59l7.72-7.72 1.47 1.35L5.41 20z\"/>\n",
              "  </svg>\n",
              "      </button>\n",
              "      \n",
              "  <style>\n",
              "    .colab-df-container {\n",
              "      display:flex;\n",
              "      flex-wrap:wrap;\n",
              "      gap: 12px;\n",
              "    }\n",
              "\n",
              "    .colab-df-convert {\n",
              "      background-color: #E8F0FE;\n",
              "      border: none;\n",
              "      border-radius: 50%;\n",
              "      cursor: pointer;\n",
              "      display: none;\n",
              "      fill: #1967D2;\n",
              "      height: 32px;\n",
              "      padding: 0 0 0 0;\n",
              "      width: 32px;\n",
              "    }\n",
              "\n",
              "    .colab-df-convert:hover {\n",
              "      background-color: #E2EBFA;\n",
              "      box-shadow: 0px 1px 2px rgba(60, 64, 67, 0.3), 0px 1px 3px 1px rgba(60, 64, 67, 0.15);\n",
              "      fill: #174EA6;\n",
              "    }\n",
              "\n",
              "    [theme=dark] .colab-df-convert {\n",
              "      background-color: #3B4455;\n",
              "      fill: #D2E3FC;\n",
              "    }\n",
              "\n",
              "    [theme=dark] .colab-df-convert:hover {\n",
              "      background-color: #434B5C;\n",
              "      box-shadow: 0px 1px 3px 1px rgba(0, 0, 0, 0.15);\n",
              "      filter: drop-shadow(0px 1px 2px rgba(0, 0, 0, 0.3));\n",
              "      fill: #FFFFFF;\n",
              "    }\n",
              "  </style>\n",
              "\n",
              "      <script>\n",
              "        const buttonEl =\n",
              "          document.querySelector('#df-f1853e54-8d9c-428d-a662-e525d0818bb1 button.colab-df-convert');\n",
              "        buttonEl.style.display =\n",
              "          google.colab.kernel.accessAllowed ? 'block' : 'none';\n",
              "\n",
              "        async function convertToInteractive(key) {\n",
              "          const element = document.querySelector('#df-f1853e54-8d9c-428d-a662-e525d0818bb1');\n",
              "          const dataTable =\n",
              "            await google.colab.kernel.invokeFunction('convertToInteractive',\n",
              "                                                     [key], {});\n",
              "          if (!dataTable) return;\n",
              "\n",
              "          const docLinkHtml = 'Like what you see? Visit the ' +\n",
              "            '<a target=\"_blank\" href=https://colab.research.google.com/notebooks/data_table.ipynb>data table notebook</a>'\n",
              "            + ' to learn more about interactive tables.';\n",
              "          element.innerHTML = '';\n",
              "          dataTable['output_type'] = 'display_data';\n",
              "          await google.colab.output.renderOutput(dataTable, element);\n",
              "          const docLink = document.createElement('div');\n",
              "          docLink.innerHTML = docLinkHtml;\n",
              "          element.appendChild(docLink);\n",
              "        }\n",
              "      </script>\n",
              "    </div>\n",
              "  </div>\n",
              "  "
            ]
          },
          "metadata": {},
          "execution_count": 18
        }
      ]
    },
    {
      "cell_type": "markdown",
      "source": [
        "# (B)"
      ],
      "metadata": {
        "id": "_ydhKCXuz5ot"
      }
    },
    {
      "cell_type": "code",
      "source": [
        "df['District Name'].unique()"
      ],
      "metadata": {
        "id": "lH0yFyNvx4qv",
        "colab": {
          "base_uri": "https://localhost:8080/"
        },
        "outputId": "1708d364-78aa-47d9-944c-32e5415c80f4"
      },
      "execution_count": 19,
      "outputs": [
        {
          "output_type": "execute_result",
          "data": {
            "text/plain": [
              "array(['Agra'], dtype=object)"
            ]
          },
          "metadata": {},
          "execution_count": 19
        }
      ]
    },
    {
      "cell_type": "code",
      "source": [
        "df['Market Name'].unique()"
      ],
      "metadata": {
        "id": "n9fdgZQByJl8",
        "colab": {
          "base_uri": "https://localhost:8080/"
        },
        "outputId": "78bf3a1d-64c1-4806-9c09-a399e59f1ca3"
      },
      "execution_count": 20,
      "outputs": [
        {
          "output_type": "execute_result",
          "data": {
            "text/plain": [
              "array(['Achnera', 'Jagnair', 'Khairagarh', 'Fatehpur Sikri', 'Agra',\n",
              "       'Fatehabad', 'Samsabad', 'Jarar'], dtype=object)"
            ]
          },
          "metadata": {},
          "execution_count": 20
        }
      ]
    },
    {
      "cell_type": "code",
      "source": [
        "df['Market Name'].value_counts()"
      ],
      "metadata": {
        "id": "ItJLIayWzSJ5",
        "colab": {
          "base_uri": "https://localhost:8080/"
        },
        "outputId": "b6019205-598e-4d00-99c8-088a04c349bb"
      },
      "execution_count": 21,
      "outputs": [
        {
          "output_type": "execute_result",
          "data": {
            "text/plain": [
              "Agra              3124\n",
              "Khairagarh        2925\n",
              "Achnera           1934\n",
              "Fatehpur Sikri    1785\n",
              "Jagnair           1661\n",
              "Fatehabad         1506\n",
              "Samsabad           999\n",
              "Jarar              872\n",
              "Name: Market Name, dtype: int64"
            ]
          },
          "metadata": {},
          "execution_count": 21
        }
      ]
    },
    {
      "cell_type": "code",
      "source": [
        "len(df['Market Name'].unique())"
      ],
      "metadata": {
        "id": "RwCDQPvGyQl8",
        "colab": {
          "base_uri": "https://localhost:8080/"
        },
        "outputId": "e1f4b4cd-07e4-4eb3-eaa0-5b5df8c2fcfd"
      },
      "execution_count": 22,
      "outputs": [
        {
          "output_type": "execute_result",
          "data": {
            "text/plain": [
              "8"
            ]
          },
          "metadata": {},
          "execution_count": 22
        }
      ]
    },
    {
      "cell_type": "code",
      "source": [
        "df['Commodity'].unique()"
      ],
      "metadata": {
        "id": "JJdTfTAvyTw2",
        "colab": {
          "base_uri": "https://localhost:8080/"
        },
        "outputId": "089156ff-42d5-49dd-c39b-4e407e53c8dd"
      },
      "execution_count": 23,
      "outputs": [
        {
          "output_type": "execute_result",
          "data": {
            "text/plain": [
              "array(['Potato'], dtype=object)"
            ]
          },
          "metadata": {},
          "execution_count": 23
        }
      ]
    },
    {
      "cell_type": "code",
      "source": [
        "df['Variety'].unique()"
      ],
      "metadata": {
        "id": "rjjTyodCyth7",
        "colab": {
          "base_uri": "https://localhost:8080/"
        },
        "outputId": "4a0259a1-ab7b-44d2-f323-bd0c6bc0dad9"
      },
      "execution_count": 24,
      "outputs": [
        {
          "output_type": "execute_result",
          "data": {
            "text/plain": [
              "array(['Other', 'Desi', 'Potato', 'F.A.Q.', 'Local', 'Chips'],\n",
              "      dtype=object)"
            ]
          },
          "metadata": {},
          "execution_count": 24
        }
      ]
    },
    {
      "cell_type": "code",
      "source": [
        "df['Variety'].value_counts()"
      ],
      "metadata": {
        "id": "fDAZveP-zZT8",
        "colab": {
          "base_uri": "https://localhost:8080/"
        },
        "outputId": "337b273a-7105-4fe1-840d-9a29108a5056"
      },
      "execution_count": 25,
      "outputs": [
        {
          "output_type": "execute_result",
          "data": {
            "text/plain": [
              "Desi      8884\n",
              "Local     2761\n",
              "Other     2717\n",
              "Potato     396\n",
              "Chips       37\n",
              "F.A.Q.      11\n",
              "Name: Variety, dtype: int64"
            ]
          },
          "metadata": {},
          "execution_count": 25
        }
      ]
    },
    {
      "cell_type": "code",
      "source": [
        "df['Grade'].unique()"
      ],
      "metadata": {
        "id": "zorYp6OxyypZ",
        "colab": {
          "base_uri": "https://localhost:8080/"
        },
        "outputId": "f71a0425-5346-42be-bdbb-12547b68058d"
      },
      "execution_count": 26,
      "outputs": [
        {
          "output_type": "execute_result",
          "data": {
            "text/plain": [
              "array(['FAQ'], dtype=object)"
            ]
          },
          "metadata": {},
          "execution_count": 26
        }
      ]
    },
    {
      "cell_type": "code",
      "source": [
        "df.groupby('Market Name')[['Min Price (Rs./Quintal)', 'Max Price (Rs./Quintal)','Modal Price (Rs./Quintal)']].mean()"
      ],
      "metadata": {
        "id": "DwGHZQTuy2tU",
        "colab": {
          "base_uri": "https://localhost:8080/",
          "height": 331
        },
        "outputId": "8154f045-1c5c-4384-978e-0140bca29a35"
      },
      "execution_count": 27,
      "outputs": [
        {
          "output_type": "execute_result",
          "data": {
            "text/plain": [
              "                Min Price (Rs./Quintal)  Max Price (Rs./Quintal)  \\\n",
              "Market Name                                                        \n",
              "Achnera                      798.867115               859.879007   \n",
              "Agra                         586.675096               692.071383   \n",
              "Fatehabad                    651.842629               780.853254   \n",
              "Fatehpur Sikri               707.268908               821.058824   \n",
              "Jagnair                      739.093919               811.309452   \n",
              "Jarar                        629.719037               723.405963   \n",
              "Khairagarh                   688.066667               740.813675   \n",
              "Samsabad                     655.755756               787.181181   \n",
              "\n",
              "                Modal Price (Rs./Quintal)  \n",
              "Market Name                                \n",
              "Achnera                        886.262151  \n",
              "Agra                           891.988156  \n",
              "Fatehabad                      728.777556  \n",
              "Fatehpur Sikri                 880.908683  \n",
              "Jagnair                        837.332330  \n",
              "Jarar                          701.894495  \n",
              "Khairagarh                     853.905983  \n",
              "Samsabad                       737.307307  "
            ],
            "text/html": [
              "\n",
              "  <div id=\"df-0c091640-d5a1-4f4e-b7bb-1b9e1a016d07\">\n",
              "    <div class=\"colab-df-container\">\n",
              "      <div>\n",
              "<style scoped>\n",
              "    .dataframe tbody tr th:only-of-type {\n",
              "        vertical-align: middle;\n",
              "    }\n",
              "\n",
              "    .dataframe tbody tr th {\n",
              "        vertical-align: top;\n",
              "    }\n",
              "\n",
              "    .dataframe thead th {\n",
              "        text-align: right;\n",
              "    }\n",
              "</style>\n",
              "<table border=\"1\" class=\"dataframe\">\n",
              "  <thead>\n",
              "    <tr style=\"text-align: right;\">\n",
              "      <th></th>\n",
              "      <th>Min Price (Rs./Quintal)</th>\n",
              "      <th>Max Price (Rs./Quintal)</th>\n",
              "      <th>Modal Price (Rs./Quintal)</th>\n",
              "    </tr>\n",
              "    <tr>\n",
              "      <th>Market Name</th>\n",
              "      <th></th>\n",
              "      <th></th>\n",
              "      <th></th>\n",
              "    </tr>\n",
              "  </thead>\n",
              "  <tbody>\n",
              "    <tr>\n",
              "      <th>Achnera</th>\n",
              "      <td>798.867115</td>\n",
              "      <td>859.879007</td>\n",
              "      <td>886.262151</td>\n",
              "    </tr>\n",
              "    <tr>\n",
              "      <th>Agra</th>\n",
              "      <td>586.675096</td>\n",
              "      <td>692.071383</td>\n",
              "      <td>891.988156</td>\n",
              "    </tr>\n",
              "    <tr>\n",
              "      <th>Fatehabad</th>\n",
              "      <td>651.842629</td>\n",
              "      <td>780.853254</td>\n",
              "      <td>728.777556</td>\n",
              "    </tr>\n",
              "    <tr>\n",
              "      <th>Fatehpur Sikri</th>\n",
              "      <td>707.268908</td>\n",
              "      <td>821.058824</td>\n",
              "      <td>880.908683</td>\n",
              "    </tr>\n",
              "    <tr>\n",
              "      <th>Jagnair</th>\n",
              "      <td>739.093919</td>\n",
              "      <td>811.309452</td>\n",
              "      <td>837.332330</td>\n",
              "    </tr>\n",
              "    <tr>\n",
              "      <th>Jarar</th>\n",
              "      <td>629.719037</td>\n",
              "      <td>723.405963</td>\n",
              "      <td>701.894495</td>\n",
              "    </tr>\n",
              "    <tr>\n",
              "      <th>Khairagarh</th>\n",
              "      <td>688.066667</td>\n",
              "      <td>740.813675</td>\n",
              "      <td>853.905983</td>\n",
              "    </tr>\n",
              "    <tr>\n",
              "      <th>Samsabad</th>\n",
              "      <td>655.755756</td>\n",
              "      <td>787.181181</td>\n",
              "      <td>737.307307</td>\n",
              "    </tr>\n",
              "  </tbody>\n",
              "</table>\n",
              "</div>\n",
              "      <button class=\"colab-df-convert\" onclick=\"convertToInteractive('df-0c091640-d5a1-4f4e-b7bb-1b9e1a016d07')\"\n",
              "              title=\"Convert this dataframe to an interactive table.\"\n",
              "              style=\"display:none;\">\n",
              "        \n",
              "  <svg xmlns=\"http://www.w3.org/2000/svg\" height=\"24px\"viewBox=\"0 0 24 24\"\n",
              "       width=\"24px\">\n",
              "    <path d=\"M0 0h24v24H0V0z\" fill=\"none\"/>\n",
              "    <path d=\"M18.56 5.44l.94 2.06.94-2.06 2.06-.94-2.06-.94-.94-2.06-.94 2.06-2.06.94zm-11 1L8.5 8.5l.94-2.06 2.06-.94-2.06-.94L8.5 2.5l-.94 2.06-2.06.94zm10 10l.94 2.06.94-2.06 2.06-.94-2.06-.94-.94-2.06-.94 2.06-2.06.94z\"/><path d=\"M17.41 7.96l-1.37-1.37c-.4-.4-.92-.59-1.43-.59-.52 0-1.04.2-1.43.59L10.3 9.45l-7.72 7.72c-.78.78-.78 2.05 0 2.83L4 21.41c.39.39.9.59 1.41.59.51 0 1.02-.2 1.41-.59l7.78-7.78 2.81-2.81c.8-.78.8-2.07 0-2.86zM5.41 20L4 18.59l7.72-7.72 1.47 1.35L5.41 20z\"/>\n",
              "  </svg>\n",
              "      </button>\n",
              "      \n",
              "  <style>\n",
              "    .colab-df-container {\n",
              "      display:flex;\n",
              "      flex-wrap:wrap;\n",
              "      gap: 12px;\n",
              "    }\n",
              "\n",
              "    .colab-df-convert {\n",
              "      background-color: #E8F0FE;\n",
              "      border: none;\n",
              "      border-radius: 50%;\n",
              "      cursor: pointer;\n",
              "      display: none;\n",
              "      fill: #1967D2;\n",
              "      height: 32px;\n",
              "      padding: 0 0 0 0;\n",
              "      width: 32px;\n",
              "    }\n",
              "\n",
              "    .colab-df-convert:hover {\n",
              "      background-color: #E2EBFA;\n",
              "      box-shadow: 0px 1px 2px rgba(60, 64, 67, 0.3), 0px 1px 3px 1px rgba(60, 64, 67, 0.15);\n",
              "      fill: #174EA6;\n",
              "    }\n",
              "\n",
              "    [theme=dark] .colab-df-convert {\n",
              "      background-color: #3B4455;\n",
              "      fill: #D2E3FC;\n",
              "    }\n",
              "\n",
              "    [theme=dark] .colab-df-convert:hover {\n",
              "      background-color: #434B5C;\n",
              "      box-shadow: 0px 1px 3px 1px rgba(0, 0, 0, 0.15);\n",
              "      filter: drop-shadow(0px 1px 2px rgba(0, 0, 0, 0.3));\n",
              "      fill: #FFFFFF;\n",
              "    }\n",
              "  </style>\n",
              "\n",
              "      <script>\n",
              "        const buttonEl =\n",
              "          document.querySelector('#df-0c091640-d5a1-4f4e-b7bb-1b9e1a016d07 button.colab-df-convert');\n",
              "        buttonEl.style.display =\n",
              "          google.colab.kernel.accessAllowed ? 'block' : 'none';\n",
              "\n",
              "        async function convertToInteractive(key) {\n",
              "          const element = document.querySelector('#df-0c091640-d5a1-4f4e-b7bb-1b9e1a016d07');\n",
              "          const dataTable =\n",
              "            await google.colab.kernel.invokeFunction('convertToInteractive',\n",
              "                                                     [key], {});\n",
              "          if (!dataTable) return;\n",
              "\n",
              "          const docLinkHtml = 'Like what you see? Visit the ' +\n",
              "            '<a target=\"_blank\" href=https://colab.research.google.com/notebooks/data_table.ipynb>data table notebook</a>'\n",
              "            + ' to learn more about interactive tables.';\n",
              "          element.innerHTML = '';\n",
              "          dataTable['output_type'] = 'display_data';\n",
              "          await google.colab.output.renderOutput(dataTable, element);\n",
              "          const docLink = document.createElement('div');\n",
              "          docLink.innerHTML = docLinkHtml;\n",
              "          element.appendChild(docLink);\n",
              "        }\n",
              "      </script>\n",
              "    </div>\n",
              "  </div>\n",
              "  "
            ]
          },
          "metadata": {},
          "execution_count": 27
        }
      ]
    },
    {
      "cell_type": "code",
      "source": [
        "df.groupby('Variety')[['Min Price (Rs./Quintal)', 'Max Price (Rs./Quintal)','Modal Price (Rs./Quintal)']].mean()"
      ],
      "metadata": {
        "id": "bTgoKX7Xzlh-",
        "colab": {
          "base_uri": "https://localhost:8080/",
          "height": 269
        },
        "outputId": "9a876804-8f09-4f2e-b29f-f1cda30a5e9c"
      },
      "execution_count": 28,
      "outputs": [
        {
          "output_type": "execute_result",
          "data": {
            "text/plain": [
              "         Min Price (Rs./Quintal)  Max Price (Rs./Quintal)  \\\n",
              "Variety                                                     \n",
              "Chips                1838.648649              2003.378378   \n",
              "Desi                  768.631697               860.216119   \n",
              "F.A.Q.                218.181818               233.636364   \n",
              "Local                 670.367620               803.230714   \n",
              "Other                 469.456386               521.890320   \n",
              "Potato                103.598485               110.378788   \n",
              "\n",
              "         Modal Price (Rs./Quintal)  \n",
              "Variety                             \n",
              "Chips                  1921.351351  \n",
              "Desi                    884.405223  \n",
              "F.A.Q.                  740.909091  \n",
              "Local                   867.884824  \n",
              "Other                   624.450497  \n",
              "Potato                  955.835859  "
            ],
            "text/html": [
              "\n",
              "  <div id=\"df-4c525a76-995a-4fa8-ae9e-86eddfb36916\">\n",
              "    <div class=\"colab-df-container\">\n",
              "      <div>\n",
              "<style scoped>\n",
              "    .dataframe tbody tr th:only-of-type {\n",
              "        vertical-align: middle;\n",
              "    }\n",
              "\n",
              "    .dataframe tbody tr th {\n",
              "        vertical-align: top;\n",
              "    }\n",
              "\n",
              "    .dataframe thead th {\n",
              "        text-align: right;\n",
              "    }\n",
              "</style>\n",
              "<table border=\"1\" class=\"dataframe\">\n",
              "  <thead>\n",
              "    <tr style=\"text-align: right;\">\n",
              "      <th></th>\n",
              "      <th>Min Price (Rs./Quintal)</th>\n",
              "      <th>Max Price (Rs./Quintal)</th>\n",
              "      <th>Modal Price (Rs./Quintal)</th>\n",
              "    </tr>\n",
              "    <tr>\n",
              "      <th>Variety</th>\n",
              "      <th></th>\n",
              "      <th></th>\n",
              "      <th></th>\n",
              "    </tr>\n",
              "  </thead>\n",
              "  <tbody>\n",
              "    <tr>\n",
              "      <th>Chips</th>\n",
              "      <td>1838.648649</td>\n",
              "      <td>2003.378378</td>\n",
              "      <td>1921.351351</td>\n",
              "    </tr>\n",
              "    <tr>\n",
              "      <th>Desi</th>\n",
              "      <td>768.631697</td>\n",
              "      <td>860.216119</td>\n",
              "      <td>884.405223</td>\n",
              "    </tr>\n",
              "    <tr>\n",
              "      <th>F.A.Q.</th>\n",
              "      <td>218.181818</td>\n",
              "      <td>233.636364</td>\n",
              "      <td>740.909091</td>\n",
              "    </tr>\n",
              "    <tr>\n",
              "      <th>Local</th>\n",
              "      <td>670.367620</td>\n",
              "      <td>803.230714</td>\n",
              "      <td>867.884824</td>\n",
              "    </tr>\n",
              "    <tr>\n",
              "      <th>Other</th>\n",
              "      <td>469.456386</td>\n",
              "      <td>521.890320</td>\n",
              "      <td>624.450497</td>\n",
              "    </tr>\n",
              "    <tr>\n",
              "      <th>Potato</th>\n",
              "      <td>103.598485</td>\n",
              "      <td>110.378788</td>\n",
              "      <td>955.835859</td>\n",
              "    </tr>\n",
              "  </tbody>\n",
              "</table>\n",
              "</div>\n",
              "      <button class=\"colab-df-convert\" onclick=\"convertToInteractive('df-4c525a76-995a-4fa8-ae9e-86eddfb36916')\"\n",
              "              title=\"Convert this dataframe to an interactive table.\"\n",
              "              style=\"display:none;\">\n",
              "        \n",
              "  <svg xmlns=\"http://www.w3.org/2000/svg\" height=\"24px\"viewBox=\"0 0 24 24\"\n",
              "       width=\"24px\">\n",
              "    <path d=\"M0 0h24v24H0V0z\" fill=\"none\"/>\n",
              "    <path d=\"M18.56 5.44l.94 2.06.94-2.06 2.06-.94-2.06-.94-.94-2.06-.94 2.06-2.06.94zm-11 1L8.5 8.5l.94-2.06 2.06-.94-2.06-.94L8.5 2.5l-.94 2.06-2.06.94zm10 10l.94 2.06.94-2.06 2.06-.94-2.06-.94-.94-2.06-.94 2.06-2.06.94z\"/><path d=\"M17.41 7.96l-1.37-1.37c-.4-.4-.92-.59-1.43-.59-.52 0-1.04.2-1.43.59L10.3 9.45l-7.72 7.72c-.78.78-.78 2.05 0 2.83L4 21.41c.39.39.9.59 1.41.59.51 0 1.02-.2 1.41-.59l7.78-7.78 2.81-2.81c.8-.78.8-2.07 0-2.86zM5.41 20L4 18.59l7.72-7.72 1.47 1.35L5.41 20z\"/>\n",
              "  </svg>\n",
              "      </button>\n",
              "      \n",
              "  <style>\n",
              "    .colab-df-container {\n",
              "      display:flex;\n",
              "      flex-wrap:wrap;\n",
              "      gap: 12px;\n",
              "    }\n",
              "\n",
              "    .colab-df-convert {\n",
              "      background-color: #E8F0FE;\n",
              "      border: none;\n",
              "      border-radius: 50%;\n",
              "      cursor: pointer;\n",
              "      display: none;\n",
              "      fill: #1967D2;\n",
              "      height: 32px;\n",
              "      padding: 0 0 0 0;\n",
              "      width: 32px;\n",
              "    }\n",
              "\n",
              "    .colab-df-convert:hover {\n",
              "      background-color: #E2EBFA;\n",
              "      box-shadow: 0px 1px 2px rgba(60, 64, 67, 0.3), 0px 1px 3px 1px rgba(60, 64, 67, 0.15);\n",
              "      fill: #174EA6;\n",
              "    }\n",
              "\n",
              "    [theme=dark] .colab-df-convert {\n",
              "      background-color: #3B4455;\n",
              "      fill: #D2E3FC;\n",
              "    }\n",
              "\n",
              "    [theme=dark] .colab-df-convert:hover {\n",
              "      background-color: #434B5C;\n",
              "      box-shadow: 0px 1px 3px 1px rgba(0, 0, 0, 0.15);\n",
              "      filter: drop-shadow(0px 1px 2px rgba(0, 0, 0, 0.3));\n",
              "      fill: #FFFFFF;\n",
              "    }\n",
              "  </style>\n",
              "\n",
              "      <script>\n",
              "        const buttonEl =\n",
              "          document.querySelector('#df-4c525a76-995a-4fa8-ae9e-86eddfb36916 button.colab-df-convert');\n",
              "        buttonEl.style.display =\n",
              "          google.colab.kernel.accessAllowed ? 'block' : 'none';\n",
              "\n",
              "        async function convertToInteractive(key) {\n",
              "          const element = document.querySelector('#df-4c525a76-995a-4fa8-ae9e-86eddfb36916');\n",
              "          const dataTable =\n",
              "            await google.colab.kernel.invokeFunction('convertToInteractive',\n",
              "                                                     [key], {});\n",
              "          if (!dataTable) return;\n",
              "\n",
              "          const docLinkHtml = 'Like what you see? Visit the ' +\n",
              "            '<a target=\"_blank\" href=https://colab.research.google.com/notebooks/data_table.ipynb>data table notebook</a>'\n",
              "            + ' to learn more about interactive tables.';\n",
              "          element.innerHTML = '';\n",
              "          dataTable['output_type'] = 'display_data';\n",
              "          await google.colab.output.renderOutput(dataTable, element);\n",
              "          const docLink = document.createElement('div');\n",
              "          docLink.innerHTML = docLinkHtml;\n",
              "          element.appendChild(docLink);\n",
              "        }\n",
              "      </script>\n",
              "    </div>\n",
              "  </div>\n",
              "  "
            ]
          },
          "metadata": {},
          "execution_count": 28
        }
      ]
    },
    {
      "cell_type": "code",
      "source": [
        "plt.plot(df['Price Date'], df['Modal Price (Rs./Quintal)'])\n",
        "plt.xlabel('Date')\n",
        "plt.ylabel('Modal Price')"
      ],
      "metadata": {
        "id": "D3HNo3Oc9UKt",
        "colab": {
          "base_uri": "https://localhost:8080/",
          "height": 296
        },
        "outputId": "8944ca0a-af4c-44ec-d3ad-ecdc544b7ea8"
      },
      "execution_count": 29,
      "outputs": [
        {
          "output_type": "execute_result",
          "data": {
            "text/plain": [
              "Text(0, 0.5, 'Modal Price')"
            ]
          },
          "metadata": {},
          "execution_count": 29
        },
        {
          "output_type": "display_data",
          "data": {
            "text/plain": [
              "<Figure size 432x288 with 1 Axes>"
            ],
            "image/png": "[encoded data removed]"
          },
          "metadata": {
            "needs_background": "light"
          }
        }
      ]
    },
    {
      "cell_type": "code",
      "source": [
        "df['Modal Price (Rs./Quintal)'].describe()"
      ],
      "metadata": {
        "id": "axBHZgzE9rYi",
        "colab": {
          "base_uri": "https://localhost:8080/"
        },
        "outputId": "cc6728cd-9fc2-4d94-c3a0-927bead10a48"
      },
      "execution_count": 30,
      "outputs": [
        {
          "output_type": "execute_result",
          "data": {
            "text/plain": [
              "count    14806.000000\n",
              "mean       838.016277\n",
              "std        453.052665\n",
              "min          0.000000\n",
              "25%        490.000000\n",
              "50%        780.000000\n",
              "75%       1050.000000\n",
              "max      10100.000000\n",
              "Name: Modal Price (Rs./Quintal), dtype: float64"
            ]
          },
          "metadata": {},
          "execution_count": 30
        }
      ]
    },
    {
      "cell_type": "code",
      "source": [
        "IQR = 1050.0 - 490.0"
      ],
      "metadata": {
        "id": "X__qOD0X95zo"
      },
      "execution_count": 31,
      "outputs": []
    },
    {
      "cell_type": "code",
      "source": [
        "min_val = 490.0 - 1.5*IQR\n",
        "max_val = 1050.0 + 1.5*IQR"
      ],
      "metadata": {
        "id": "lkv-ks9f-BMU"
      },
      "execution_count": 32,
      "outputs": []
    },
    {
      "cell_type": "code",
      "source": [
        "df = df[(df['Modal Price (Rs./Quintal)']>=min_val) &  (df['Modal Price (Rs./Quintal)']<=max_val)]"
      ],
      "metadata": {
        "id": "6asaxivT-BPB"
      },
      "execution_count": 33,
      "outputs": []
    },
    {
      "cell_type": "code",
      "source": [
        "plt.plot(df['Price Date'], df['Modal Price (Rs./Quintal)'])\n",
        "plt.xlabel('Date')\n",
        "plt.ylabel('Modal Price')"
      ],
      "metadata": {
        "id": "_423a2Tt-BSm",
        "colab": {
          "base_uri": "https://localhost:8080/",
          "height": 296
        },
        "outputId": "cb748477-9231-48e2-cc1d-e329acbbb633"
      },
      "execution_count": 34,
      "outputs": [
        {
          "output_type": "execute_result",
          "data": {
            "text/plain": [
              "Text(0, 0.5, 'Modal Price')"
            ]
          },
          "metadata": {},
          "execution_count": 34
        },
        {
          "output_type": "display_data",
          "data": {
            "text/plain": [
              "<Figure size 432x288 with 1 Axes>"
            ],
            "image/png": "[encoded data removed]"
          },
          "metadata": {
            "needs_background": "light"
          }
        }
      ]
    },
    {
      "cell_type": "code",
      "source": [
        "for col in df['Market Name'].unique():\n",
        "  plt.plot(df[df['Market Name']==col]['Price Date'], df[df['Market Name']==col]['Modal Price (Rs./Quintal)'])\n",
        "  plt.xlabel(col)\n",
        "  plt.ylabel('Modal Price (Rs./Quintal)')\n",
        "  plt.show()"
      ],
      "metadata": {
        "id": "MqaA85_l0UQx",
        "colab": {
          "base_uri": "https://localhost:8080/",
          "height": 1000
        },
        "outputId": "445caedf-cc83-4f42-cb86-eb891044810a"
      },
      "execution_count": 35,
      "outputs": [
        {
          "output_type": "display_data",
          "data": {
            "text/plain": [
              "<Figure size 432x288 with 1 Axes>"
            ],
            "image/png": "[encoded data removed]"
          },
          "metadata": {
            "needs_background": "light"
          }
        },
        {
          "output_type": "display_data",
          "data": {
            "text/plain": [
              "<Figure size 432x288 with 1 Axes>"
            ],
            "image/png": "[encoded data removed]"
          },
          "metadata": {
            "needs_background": "light"
          }
        },
        {
          "output_type": "display_data",
          "data": {
            "text/plain": [
              "<Figure size 432x288 with 1 Axes>"
            ],
            "image/png": "[encoded data removed]"
          },
          "metadata": {
            "needs_background": "light"
          }
        },
        {
          "output_type": "display_data",
          "data": {
            "text/plain": [
              "<Figure size 432x288 with 1 Axes>"
            ],
            "image/png": "[encoded data removed]"
          },
          "metadata": {
            "needs_background": "light"
          }
        },
        {
          "output_type": "display_data",
          "data": {
            "text/plain": [
              "<Figure size 432x288 with 1 Axes>"
            ],
            "image/png": "[encoded data removed]"
          },
          "metadata": {
            "needs_background": "light"
          }
        },
        {
          "output_type": "display_data",
          "data": {
            "text/plain": [
              "<Figure size 432x288 with 1 Axes>"
            ],
            "image/png": "[encoded data removed]"
          },
          "metadata": {
            "needs_background": "light"
          }
        },
        {
          "output_type": "display_data",
          "data": {
            "text/plain": [
              "<Figure size 432x288 with 1 Axes>"
            ],
            "image/png": "[encoded data removed]"
          },
          "metadata": {
            "needs_background": "light"
          }
        },
        {
          "output_type": "display_data",
          "data": {
            "text/plain": [
              "<Figure size 432x288 with 1 Axes>"
            ],
            "image/png": "[encoded data removed]"
          },
          "metadata": {
            "needs_background": "light"
          }
        }
      ]
    },
    {
      "cell_type": "code",
      "source": [
        "for col in df['Variety'].unique():\n",
        "  plt.plot(df[df['Variety']==col]['Price Date'], df[df['Variety']==col]['Modal Price (Rs./Quintal)'])\n",
        "  plt.xlabel(col)\n",
        "  plt.ylabel('Modal Price (Rs./Quintal)')\n",
        "  plt.show()"
      ],
      "metadata": {
        "id": "dmkI7JlE3ZAJ",
        "colab": {
          "base_uri": "https://localhost:8080/",
          "height": 1000
        },
        "outputId": "1e99b0ad-9368-4cbc-c237-75b3938a35d6"
      },
      "execution_count": 36,
      "outputs": [
        {
          "output_type": "display_data",
          "data": {
            "text/plain": [
              "<Figure size 432x288 with 1 Axes>"
            ],
            "image/png": "[encoded data removed]"
          },
          "metadata": {
            "needs_background": "light"
          }
        },
        {
          "output_type": "display_data",
          "data": {
            "text/plain": [
              "<Figure size 432x288 with 1 Axes>"
            ],
            "image/png": "[encoded data removed]"
          },
          "metadata": {
            "needs_background": "light"
          }
        },
        {
          "output_type": "display_data",
          "data": {
            "text/plain": [
              "<Figure size 432x288 with 1 Axes>"
            ],
            "image/png": "[encoded data removed]"
          },
          "metadata": {
            "needs_background": "light"
          }
        },
        {
          "output_type": "display_data",
          "data": {
            "text/plain": [
              "<Figure size 432x288 with 1 Axes>"
            ],
            "image/png": "[encoded data removed]"
          },
          "metadata": {
            "needs_background": "light"
          }
        },
        {
          "output_type": "display_data",
          "data": {
            "text/plain": [
              "<Figure size 432x288 with 1 Axes>"
            ],
            "image/png": "[encoded data removed]"
          },
          "metadata": {
            "needs_background": "light"
          }
        },
        {
          "output_type": "display_data",
          "data": {
            "text/plain": [
              "<Figure size 432x288 with 1 Axes>"
            ],
            "image/png": "[encoded data removed]"
          },
          "metadata": {
            "needs_background": "light"
          }
        }
      ]
    },
    {
      "cell_type": "code",
      "source": [
        "df['Year'] = df['Price Date'].apply(lambda x:str(x.year))"
      ],
      "metadata": {
        "id": "54c2lPS-BDQM",
        "colab": {
          "base_uri": "https://localhost:8080/"
        },
        "outputId": "fd12d80d-efa2-4c72-b933-d6a9b5dc8a10"
      },
      "execution_count": 37,
      "outputs": [
        {
          "output_type": "stream",
          "name": "stderr",
          "text": [
            "/usr/local/lib/python3.7/dist-packages/ipykernel_launcher.py:1: SettingWithCopyWarning: \n",
            "A value is trying to be set on a copy of a slice from a DataFrame.\n",
            "Try using .loc[row_indexer,col_indexer] = value instead\n",
            "\n",
            "See the caveats in the documentation: https://pandas.pydata.org/pandas-docs/stable/user_guide/indexing.html#returning-a-view-versus-a-copy\n",
            "  \"\"\"Entry point for launching an IPython kernel.\n"
          ]
        }
      ]
    },
    {
      "cell_type": "code",
      "source": [
        "df['Month'] = df['Price Date'].apply(lambda x:str(x.month))"
      ],
      "metadata": {
        "id": "H3jYrtqNBDTP",
        "colab": {
          "base_uri": "https://localhost:8080/"
        },
        "outputId": "e31e68cc-7c9f-4aa7-a62b-0d95370aa799"
      },
      "execution_count": 38,
      "outputs": [
        {
          "output_type": "stream",
          "name": "stderr",
          "text": [
            "/usr/local/lib/python3.7/dist-packages/ipykernel_launcher.py:1: SettingWithCopyWarning: \n",
            "A value is trying to be set on a copy of a slice from a DataFrame.\n",
            "Try using .loc[row_indexer,col_indexer] = value instead\n",
            "\n",
            "See the caveats in the documentation: https://pandas.pydata.org/pandas-docs/stable/user_guide/indexing.html#returning-a-view-versus-a-copy\n",
            "  \"\"\"Entry point for launching an IPython kernel.\n"
          ]
        }
      ]
    },
    {
      "cell_type": "code",
      "source": [
        "df['Day'] = df['Price Date'].apply(lambda x:str(x.day))"
      ],
      "metadata": {
        "id": "haXLFhj8BDWY",
        "colab": {
          "base_uri": "https://localhost:8080/"
        },
        "outputId": "72310ca7-aa53-4628-d961-02bde3175b86"
      },
      "execution_count": 39,
      "outputs": [
        {
          "output_type": "stream",
          "name": "stderr",
          "text": [
            "/usr/local/lib/python3.7/dist-packages/ipykernel_launcher.py:1: SettingWithCopyWarning: \n",
            "A value is trying to be set on a copy of a slice from a DataFrame.\n",
            "Try using .loc[row_indexer,col_indexer] = value instead\n",
            "\n",
            "See the caveats in the documentation: https://pandas.pydata.org/pandas-docs/stable/user_guide/indexing.html#returning-a-view-versus-a-copy\n",
            "  \"\"\"Entry point for launching an IPython kernel.\n"
          ]
        }
      ]
    },
    {
      "cell_type": "code",
      "source": [
        "df = pd.get_dummies(df)"
      ],
      "metadata": {
        "id": "aMLA8qd04BHo"
      },
      "execution_count": 40,
      "outputs": []
    },
    {
      "cell_type": "code",
      "source": [
        "df.head()"
      ],
      "metadata": {
        "id": "vGTKgue96NAR",
        "colab": {
          "base_uri": "https://localhost:8080/",
          "height": 421
        },
        "outputId": "1bdef9f2-919c-4c61-c1f6-80b338083207"
      },
      "execution_count": 41,
      "outputs": [
        {
          "output_type": "execute_result",
          "data": {
            "text/plain": [
              "       Sl no.  Min Price (Rs./Quintal)  Max Price (Rs./Quintal)  \\\n",
              "1933     1934                      320                      400   \n",
              "10009   10010                      330                      400   \n",
              "13806   13807                      500                      600   \n",
              "8348     8349                      290                      315   \n",
              "1932     1933                      300                      400   \n",
              "\n",
              "       Modal Price (Rs./Quintal) Price Date  District Name_Agra  \\\n",
              "1933                         370 2011-01-01                   1   \n",
              "10009                        350 2011-01-01                   1   \n",
              "13806                        550 2011-01-01                   1   \n",
              "8348                         300 2011-01-01                   1   \n",
              "1932                         360 2011-01-02                   1   \n",
              "\n",
              "       Market Name_Achnera  Market Name_Agra  Market Name_Fatehabad  \\\n",
              "1933                     1                 0                      0   \n",
              "10009                    0                 0                      0   \n",
              "13806                    0                 0                      0   \n",
              "8348                     0                 0                      0   \n",
              "1932                     1                 0                      0   \n",
              "\n",
              "       Market Name_Fatehpur Sikri  ...  Day_29  Day_3  Day_30  Day_31  Day_4  \\\n",
              "1933                            0  ...       0      0       0       0      0   \n",
              "10009                           0  ...       0      0       0       0      0   \n",
              "13806                           0  ...       0      0       0       0      0   \n",
              "8348                            1  ...       0      0       0       0      0   \n",
              "1932                            0  ...       0      0       0       0      0   \n",
              "\n",
              "       Day_5  Day_6  Day_7  Day_8  Day_9  \n",
              "1933       0      0      0      0      0  \n",
              "10009      0      0      0      0      0  \n",
              "13806      0      0      0      0      0  \n",
              "8348       0      0      0      0      0  \n",
              "1932       0      0      0      0      0  \n",
              "\n",
              "[5 rows x 77 columns]"
            ],
            "text/html": [
              "\n",
              "  <div id=\"df-0fde3327-05ea-4653-8c6f-b2d47966960e\">\n",
              "    <div class=\"colab-df-container\">\n",
              "      <div>\n",
              "<style scoped>\n",
              "    .dataframe tbody tr th:only-of-type {\n",
              "        vertical-align: middle;\n",
              "    }\n",
              "\n",
              "    .dataframe tbody tr th {\n",
              "        vertical-align: top;\n",
              "    }\n",
              "\n",
              "    .dataframe thead th {\n",
              "        text-align: right;\n",
              "    }\n",
              "</style>\n",
              "<table border=\"1\" class=\"dataframe\">\n",
              "  <thead>\n",
              "    <tr style=\"text-align: right;\">\n",
              "      <th></th>\n",
              "      <th>Sl no.</th>\n",
              "      <th>Min Price (Rs./Quintal)</th>\n",
              "      <th>Max Price (Rs./Quintal)</th>\n",
              "      <th>Modal Price (Rs./Quintal)</th>\n",
              "      <th>Price Date</th>\n",
              "      <th>District Name_Agra</th>\n",
              "      <th>Market Name_Achnera</th>\n",
              "      <th>Market Name_Agra</th>\n",
              "      <th>Market Name_Fatehabad</th>\n",
              "      <th>Market Name_Fatehpur Sikri</th>\n",
              "      <th>...</th>\n",
              "      <th>Day_29</th>\n",
              "      <th>Day_3</th>\n",
              "      <th>Day_30</th>\n",
              "      <th>Day_31</th>\n",
              "      <th>Day_4</th>\n",
              "      <th>Day_5</th>\n",
              "      <th>Day_6</th>\n",
              "      <th>Day_7</th>\n",
              "      <th>Day_8</th>\n",
              "      <th>Day_9</th>\n",
              "    </tr>\n",
              "  </thead>\n",
              "  <tbody>\n",
              "    <tr>\n",
              "      <th>1933</th>\n",
              "      <td>1934</td>\n",
              "      <td>320</td>\n",
              "      <td>400</td>\n",
              "      <td>370</td>\n",
              "      <td>2011-01-01</td>\n",
              "      <td>1</td>\n",
              "      <td>1</td>\n",
              "      <td>0</td>\n",
              "      <td>0</td>\n",
              "      <td>0</td>\n",
              "      <td>...</td>\n",
              "      <td>0</td>\n",
              "      <td>0</td>\n",
              "      <td>0</td>\n",
              "      <td>0</td>\n",
              "      <td>0</td>\n",
              "      <td>0</td>\n",
              "      <td>0</td>\n",
              "      <td>0</td>\n",
              "      <td>0</td>\n",
              "      <td>0</td>\n",
              "    </tr>\n",
              "    <tr>\n",
              "      <th>10009</th>\n",
              "      <td>10010</td>\n",
              "      <td>330</td>\n",
              "      <td>400</td>\n",
              "      <td>350</td>\n",
              "      <td>2011-01-01</td>\n",
              "      <td>1</td>\n",
              "      <td>0</td>\n",
              "      <td>0</td>\n",
              "      <td>0</td>\n",
              "      <td>0</td>\n",
              "      <td>...</td>\n",
              "      <td>0</td>\n",
              "      <td>0</td>\n",
              "      <td>0</td>\n",
              "      <td>0</td>\n",
              "      <td>0</td>\n",
              "      <td>0</td>\n",
              "      <td>0</td>\n",
              "      <td>0</td>\n",
              "      <td>0</td>\n",
              "      <td>0</td>\n",
              "    </tr>\n",
              "    <tr>\n",
              "      <th>13806</th>\n",
              "      <td>13807</td>\n",
              "      <td>500</td>\n",
              "      <td>600</td>\n",
              "      <td>550</td>\n",
              "      <td>2011-01-01</td>\n",
              "      <td>1</td>\n",
              "      <td>0</td>\n",
              "      <td>0</td>\n",
              "      <td>0</td>\n",
              "      <td>0</td>\n",
              "      <td>...</td>\n",
              "      <td>0</td>\n",
              "      <td>0</td>\n",
              "      <td>0</td>\n",
              "      <td>0</td>\n",
              "      <td>0</td>\n",
              "      <td>0</td>\n",
              "      <td>0</td>\n",
              "      <td>0</td>\n",
              "      <td>0</td>\n",
              "      <td>0</td>\n",
              "    </tr>\n",
              "    <tr>\n",
              "      <th>8348</th>\n",
              "      <td>8349</td>\n",
              "      <td>290</td>\n",
              "      <td>315</td>\n",
              "      <td>300</td>\n",
              "      <td>2011-01-01</td>\n",
              "      <td>1</td>\n",
              "      <td>0</td>\n",
              "      <td>0</td>\n",
              "      <td>0</td>\n",
              "      <td>1</td>\n",
              "      <td>...</td>\n",
              "      <td>0</td>\n",
              "      <td>0</td>\n",
              "      <td>0</td>\n",
              "      <td>0</td>\n",
              "      <td>0</td>\n",
              "      <td>0</td>\n",
              "      <td>0</td>\n",
              "      <td>0</td>\n",
              "      <td>0</td>\n",
              "      <td>0</td>\n",
              "    </tr>\n",
              "    <tr>\n",
              "      <th>1932</th>\n",
              "      <td>1933</td>\n",
              "      <td>300</td>\n",
              "      <td>400</td>\n",
              "      <td>360</td>\n",
              "      <td>2011-01-02</td>\n",
              "      <td>1</td>\n",
              "      <td>1</td>\n",
              "      <td>0</td>\n",
              "      <td>0</td>\n",
              "      <td>0</td>\n",
              "      <td>...</td>\n",
              "      <td>0</td>\n",
              "      <td>0</td>\n",
              "      <td>0</td>\n",
              "      <td>0</td>\n",
              "      <td>0</td>\n",
              "      <td>0</td>\n",
              "      <td>0</td>\n",
              "      <td>0</td>\n",
              "      <td>0</td>\n",
              "      <td>0</td>\n",
              "    </tr>\n",
              "  </tbody>\n",
              "</table>\n",
              "<p>5 rows × 77 columns</p>\n",
              "</div>\n",
              "      <button class=\"colab-df-convert\" onclick=\"convertToInteractive('df-0fde3327-05ea-4653-8c6f-b2d47966960e')\"\n",
              "              title=\"Convert this dataframe to an interactive table.\"\n",
              "              style=\"display:none;\">\n",
              "        \n",
              "  <svg xmlns=\"http://www.w3.org/2000/svg\" height=\"24px\"viewBox=\"0 0 24 24\"\n",
              "       width=\"24px\">\n",
              "    <path d=\"M0 0h24v24H0V0z\" fill=\"none\"/>\n",
              "    <path d=\"M18.56 5.44l.94 2.06.94-2.06 2.06-.94-2.06-.94-.94-2.06-.94 2.06-2.06.94zm-11 1L8.5 8.5l.94-2.06 2.06-.94-2.06-.94L8.5 2.5l-.94 2.06-2.06.94zm10 10l.94 2.06.94-2.06 2.06-.94-2.06-.94-.94-2.06-.94 2.06-2.06.94z\"/><path d=\"M17.41 7.96l-1.37-1.37c-.4-.4-.92-.59-1.43-.59-.52 0-1.04.2-1.43.59L10.3 9.45l-7.72 7.72c-.78.78-.78 2.05 0 2.83L4 21.41c.39.39.9.59 1.41.59.51 0 1.02-.2 1.41-.59l7.78-7.78 2.81-2.81c.8-.78.8-2.07 0-2.86zM5.41 20L4 18.59l7.72-7.72 1.47 1.35L5.41 20z\"/>\n",
              "  </svg>\n",
              "      </button>\n",
              "      \n",
              "  <style>\n",
              "    .colab-df-container {\n",
              "      display:flex;\n",
              "      flex-wrap:wrap;\n",
              "      gap: 12px;\n",
              "    }\n",
              "\n",
              "    .colab-df-convert {\n",
              "      background-color: #E8F0FE;\n",
              "      border: none;\n",
              "      border-radius: 50%;\n",
              "      cursor: pointer;\n",
              "      display: none;\n",
              "      fill: #1967D2;\n",
              "      height: 32px;\n",
              "      padding: 0 0 0 0;\n",
              "      width: 32px;\n",
              "    }\n",
              "\n",
              "    .colab-df-convert:hover {\n",
              "      background-color: #E2EBFA;\n",
              "      box-shadow: 0px 1px 2px rgba(60, 64, 67, 0.3), 0px 1px 3px 1px rgba(60, 64, 67, 0.15);\n",
              "      fill: #174EA6;\n",
              "    }\n",
              "\n",
              "    [theme=dark] .colab-df-convert {\n",
              "      background-color: #3B4455;\n",
              "      fill: #D2E3FC;\n",
              "    }\n",
              "\n",
              "    [theme=dark] .colab-df-convert:hover {\n",
              "      background-color: #434B5C;\n",
              "      box-shadow: 0px 1px 3px 1px rgba(0, 0, 0, 0.15);\n",
              "      filter: drop-shadow(0px 1px 2px rgba(0, 0, 0, 0.3));\n",
              "      fill: #FFFFFF;\n",
              "    }\n",
              "  </style>\n",
              "\n",
              "      <script>\n",
              "        const buttonEl =\n",
              "          document.querySelector('#df-0fde3327-05ea-4653-8c6f-b2d47966960e button.colab-df-convert');\n",
              "        buttonEl.style.display =\n",
              "          google.colab.kernel.accessAllowed ? 'block' : 'none';\n",
              "\n",
              "        async function convertToInteractive(key) {\n",
              "          const element = document.querySelector('#df-0fde3327-05ea-4653-8c6f-b2d47966960e');\n",
              "          const dataTable =\n",
              "            await google.colab.kernel.invokeFunction('convertToInteractive',\n",
              "                                                     [key], {});\n",
              "          if (!dataTable) return;\n",
              "\n",
              "          const docLinkHtml = 'Like what you see? Visit the ' +\n",
              "            '<a target=\"_blank\" href=https://colab.research.google.com/notebooks/data_table.ipynb>data table notebook</a>'\n",
              "            + ' to learn more about interactive tables.';\n",
              "          element.innerHTML = '';\n",
              "          dataTable['output_type'] = 'display_data';\n",
              "          await google.colab.output.renderOutput(dataTable, element);\n",
              "          const docLink = document.createElement('div');\n",
              "          docLink.innerHTML = docLinkHtml;\n",
              "          element.appendChild(docLink);\n",
              "        }\n",
              "      </script>\n",
              "    </div>\n",
              "  </div>\n",
              "  "
            ]
          },
          "metadata": {},
          "execution_count": 41
        }
      ]
    },
    {
      "cell_type": "code",
      "source": [
        "df.columns"
      ],
      "metadata": {
        "id": "9Y0eeECo6Pjv",
        "colab": {
          "base_uri": "https://localhost:8080/"
        },
        "outputId": "d112a8a7-6d20-4779-86c9-b932ff9ff57d"
      },
      "execution_count": 42,
      "outputs": [
        {
          "output_type": "execute_result",
          "data": {
            "text/plain": [
              "Index(['Sl no.', 'Min Price (Rs./Quintal)', 'Max Price (Rs./Quintal)',\n",
              "       'Modal Price (Rs./Quintal)', 'Price Date', 'District Name_Agra',\n",
              "       'Market Name_Achnera', 'Market Name_Agra', 'Market Name_Fatehabad',\n",
              "       'Market Name_Fatehpur Sikri', 'Market Name_Jagnair',\n",
              "       'Market Name_Jarar', 'Market Name_Khairagarh', 'Market Name_Samsabad',\n",
              "       'Commodity_Potato', 'Variety_Chips', 'Variety_Desi', 'Variety_F.A.Q.',\n",
              "       'Variety_Local', 'Variety_Other', 'Variety_Potato', 'Grade_FAQ',\n",
              "       'Year_2011', 'Year_2012', 'Year_2013', 'Year_2014', 'Year_2015',\n",
              "       'Year_2016', 'Year_2017', 'Year_2018', 'Year_2019', 'Year_2020',\n",
              "       'Year_2021', 'Year_2022', 'Month_1', 'Month_10', 'Month_11', 'Month_12',\n",
              "       'Month_2', 'Month_3', 'Month_4', 'Month_5', 'Month_6', 'Month_7',\n",
              "       'Month_8', 'Month_9', 'Day_1', 'Day_10', 'Day_11', 'Day_12', 'Day_13',\n",
              "       'Day_14', 'Day_15', 'Day_16', 'Day_17', 'Day_18', 'Day_19', 'Day_2',\n",
              "       'Day_20', 'Day_21', 'Day_22', 'Day_23', 'Day_24', 'Day_25', 'Day_26',\n",
              "       'Day_27', 'Day_28', 'Day_29', 'Day_3', 'Day_30', 'Day_31', 'Day_4',\n",
              "       'Day_5', 'Day_6', 'Day_7', 'Day_8', 'Day_9'],\n",
              "      dtype='object')"
            ]
          },
          "metadata": {},
          "execution_count": 42
        }
      ]
    },
    {
      "cell_type": "code",
      "source": [
        "Features = [\n",
        "       'Market Name_Achnera', 'Market Name_Agra', 'Market Name_Fatehabad',\n",
        "       'Market Name_Fatehpur Sikri', 'Market Name_Jagnair',\n",
        "       'Market Name_Jarar', 'Market Name_Khairagarh', 'Market Name_Samsabad',\n",
        "        'Variety_Chips', 'Variety_Desi', 'Variety_F.A.Q.',\n",
        "       'Variety_Local', 'Variety_Other', 'Variety_Potato', \n",
        "       'Year_2011', 'Year_2012', 'Year_2013', 'Year_2014', 'Year_2015',\n",
        "       'Year_2016', 'Year_2017', 'Year_2018', 'Year_2019', 'Year_2020',\n",
        "       'Year_2021', 'Year_2022', 'Month_1', 'Month_10', 'Month_11', 'Month_12',\n",
        "       'Month_2', 'Month_3', 'Month_4', 'Month_5', 'Month_6', 'Month_7',\n",
        "       'Month_8', 'Month_9', 'Day_1', 'Day_10', 'Day_11', 'Day_12', 'Day_13',\n",
        "       'Day_14', 'Day_15', 'Day_16', 'Day_17', 'Day_18', 'Day_19', 'Day_2',\n",
        "       'Day_20', 'Day_21', 'Day_22', 'Day_23', 'Day_24', 'Day_25', 'Day_26',\n",
        "       'Day_27', 'Day_28', 'Day_29', 'Day_3', 'Day_30', 'Day_31', 'Day_4',\n",
        "       'Day_5', 'Day_6', 'Day_7', 'Day_8', 'Day_9']\n",
        "cols = [ \n",
        "       'Market Name_Achnera', 'Market Name_Agra', 'Market Name_Fatehabad',\n",
        "       'Market Name_Fatehpur Sikri', 'Market Name_Jagnair',\n",
        "       'Market Name_Jarar', 'Market Name_Khairagarh', 'Market Name_Samsabad',\n",
        " 'Variety_Chips', 'Variety_Desi', 'Variety_F.A.Q.',\n",
        "       'Variety_Local', 'Variety_Other', 'Variety_Potato', \n",
        "       'Year_2011', 'Year_2012', 'Year_2013', 'Year_2014', 'Year_2015',\n",
        "       'Year_2016', 'Year_2017', 'Year_2018', 'Year_2019', 'Year_2020',\n",
        "       'Year_2021', 'Year_2022', 'Month_1', 'Month_10', 'Month_11', 'Month_12',\n",
        "       'Month_2', 'Month_3', 'Month_4', 'Month_5', 'Month_6', 'Month_7',\n",
        "       'Month_8', 'Month_9', 'Day_1', 'Day_10', 'Day_11', 'Day_12', 'Day_13',\n",
        "       'Day_14', 'Day_15', 'Day_16', 'Day_17', 'Day_18', 'Day_19', 'Day_2',\n",
        "       'Day_20', 'Day_21', 'Day_22', 'Day_23', 'Day_24', 'Day_25', 'Day_26',\n",
        "       'Day_27', 'Day_28', 'Day_29', 'Day_3', 'Day_30', 'Day_31', 'Day_4',\n",
        "       'Day_5', 'Day_6', 'Day_7', 'Day_8', 'Day_9','Modal Price (Rs./Quintal)']"
      ],
      "metadata": {
        "id": "QxJ39ent6TKN"
      },
      "execution_count": 43,
      "outputs": []
    },
    {
      "cell_type": "code",
      "source": [
        "final_df = df[cols]"
      ],
      "metadata": {
        "id": "bsqF8aF86wWq"
      },
      "execution_count": 44,
      "outputs": []
    },
    {
      "cell_type": "code",
      "source": [
        "final_df.head()"
      ],
      "metadata": {
        "id": "tqLnfMir61F7",
        "colab": {
          "base_uri": "https://localhost:8080/",
          "height": 334
        },
        "outputId": "86e08b9f-fdd4-45dc-e861-563d674e59c3"
      },
      "execution_count": 45,
      "outputs": [
        {
          "output_type": "execute_result",
          "data": {
            "text/plain": [
              "       Market Name_Achnera  Market Name_Agra  Market Name_Fatehabad  \\\n",
              "1933                     1                 0                      0   \n",
              "10009                    0                 0                      0   \n",
              "13806                    0                 0                      0   \n",
              "8348                     0                 0                      0   \n",
              "1932                     1                 0                      0   \n",
              "\n",
              "       Market Name_Fatehpur Sikri  Market Name_Jagnair  Market Name_Jarar  \\\n",
              "1933                            0                    0                  0   \n",
              "10009                           0                    1                  0   \n",
              "13806                           0                    0                  0   \n",
              "8348                            1                    0                  0   \n",
              "1932                            0                    0                  0   \n",
              "\n",
              "       Market Name_Khairagarh  Market Name_Samsabad  Variety_Chips  \\\n",
              "1933                        0                     0              0   \n",
              "10009                       0                     0              0   \n",
              "13806                       1                     0              0   \n",
              "8348                        0                     0              0   \n",
              "1932                        0                     0              0   \n",
              "\n",
              "       Variety_Desi  ...  Day_3  Day_30  Day_31  Day_4  Day_5  Day_6  Day_7  \\\n",
              "1933              0  ...      0       0       0      0      0      0      0   \n",
              "10009             0  ...      0       0       0      0      0      0      0   \n",
              "13806             0  ...      0       0       0      0      0      0      0   \n",
              "8348              0  ...      0       0       0      0      0      0      0   \n",
              "1932              0  ...      0       0       0      0      0      0      0   \n",
              "\n",
              "       Day_8  Day_9  Modal Price (Rs./Quintal)  \n",
              "1933       0      0                        370  \n",
              "10009      0      0                        350  \n",
              "13806      0      0                        550  \n",
              "8348       0      0                        300  \n",
              "1932       0      0                        360  \n",
              "\n",
              "[5 rows x 70 columns]"
            ],
            "text/html": [
              "\n",
              "  <div id=\"df-e41fa0c3-55f1-48f2-b641-a8b92ed6389d\">\n",
              "    <div class=\"colab-df-container\">\n",
              "      <div>\n",
              "<style scoped>\n",
              "    .dataframe tbody tr th:only-of-type {\n",
              "        vertical-align: middle;\n",
              "    }\n",
              "\n",
              "    .dataframe tbody tr th {\n",
              "        vertical-align: top;\n",
              "    }\n",
              "\n",
              "    .dataframe thead th {\n",
              "        text-align: right;\n",
              "    }\n",
              "</style>\n",
              "<table border=\"1\" class=\"dataframe\">\n",
              "  <thead>\n",
              "    <tr style=\"text-align: right;\">\n",
              "      <th></th>\n",
              "      <th>Market Name_Achnera</th>\n",
              "      <th>Market Name_Agra</th>\n",
              "      <th>Market Name_Fatehabad</th>\n",
              "      <th>Market Name_Fatehpur Sikri</th>\n",
              "      <th>Market Name_Jagnair</th>\n",
              "      <th>Market Name_Jarar</th>\n",
              "      <th>Market Name_Khairagarh</th>\n",
              "      <th>Market Name_Samsabad</th>\n",
              "      <th>Variety_Chips</th>\n",
              "      <th>Variety_Desi</th>\n",
              "      <th>...</th>\n",
              "      <th>Day_3</th>\n",
              "      <th>Day_30</th>\n",
              "      <th>Day_31</th>\n",
              "      <th>Day_4</th>\n",
              "      <th>Day_5</th>\n",
              "      <th>Day_6</th>\n",
              "      <th>Day_7</th>\n",
              "      <th>Day_8</th>\n",
              "      <th>Day_9</th>\n",
              "      <th>Modal Price (Rs./Quintal)</th>\n",
              "    </tr>\n",
              "  </thead>\n",
              "  <tbody>\n",
              "    <tr>\n",
              "      <th>1933</th>\n",
              "      <td>1</td>\n",
              "      <td>0</td>\n",
              "      <td>0</td>\n",
              "      <td>0</td>\n",
              "      <td>0</td>\n",
              "      <td>0</td>\n",
              "      <td>0</td>\n",
              "      <td>0</td>\n",
              "      <td>0</td>\n",
              "      <td>0</td>\n",
              "      <td>...</td>\n",
              "      <td>0</td>\n",
              "      <td>0</td>\n",
              "      <td>0</td>\n",
              "      <td>0</td>\n",
              "      <td>0</td>\n",
              "      <td>0</td>\n",
              "      <td>0</td>\n",
              "      <td>0</td>\n",
              "      <td>0</td>\n",
              "      <td>370</td>\n",
              "    </tr>\n",
              "    <tr>\n",
              "      <th>10009</th>\n",
              "      <td>0</td>\n",
              "      <td>0</td>\n",
              "      <td>0</td>\n",
              "      <td>0</td>\n",
              "      <td>1</td>\n",
              "      <td>0</td>\n",
              "      <td>0</td>\n",
              "      <td>0</td>\n",
              "      <td>0</td>\n",
              "      <td>0</td>\n",
              "      <td>...</td>\n",
              "      <td>0</td>\n",
              "      <td>0</td>\n",
              "      <td>0</td>\n",
              "      <td>0</td>\n",
              "      <td>0</td>\n",
              "      <td>0</td>\n",
              "      <td>0</td>\n",
              "      <td>0</td>\n",
              "      <td>0</td>\n",
              "      <td>350</td>\n",
              "    </tr>\n",
              "    <tr>\n",
              "      <th>13806</th>\n",
              "      <td>0</td>\n",
              "      <td>0</td>\n",
              "      <td>0</td>\n",
              "      <td>0</td>\n",
              "      <td>0</td>\n",
              "      <td>0</td>\n",
              "      <td>1</td>\n",
              "      <td>0</td>\n",
              "      <td>0</td>\n",
              "      <td>0</td>\n",
              "      <td>...</td>\n",
              "      <td>0</td>\n",
              "      <td>0</td>\n",
              "      <td>0</td>\n",
              "      <td>0</td>\n",
              "      <td>0</td>\n",
              "      <td>0</td>\n",
              "      <td>0</td>\n",
              "      <td>0</td>\n",
              "      <td>0</td>\n",
              "      <td>550</td>\n",
              "    </tr>\n",
              "    <tr>\n",
              "      <th>8348</th>\n",
              "      <td>0</td>\n",
              "      <td>0</td>\n",
              "      <td>0</td>\n",
              "      <td>1</td>\n",
              "      <td>0</td>\n",
              "      <td>0</td>\n",
              "      <td>0</td>\n",
              "      <td>0</td>\n",
              "      <td>0</td>\n",
              "      <td>0</td>\n",
              "      <td>...</td>\n",
              "      <td>0</td>\n",
              "      <td>0</td>\n",
              "      <td>0</td>\n",
              "      <td>0</td>\n",
              "      <td>0</td>\n",
              "      <td>0</td>\n",
              "      <td>0</td>\n",
              "      <td>0</td>\n",
              "      <td>0</td>\n",
              "      <td>300</td>\n",
              "    </tr>\n",
              "    <tr>\n",
              "      <th>1932</th>\n",
              "      <td>1</td>\n",
              "      <td>0</td>\n",
              "      <td>0</td>\n",
              "      <td>0</td>\n",
              "      <td>0</td>\n",
              "      <td>0</td>\n",
              "      <td>0</td>\n",
              "      <td>0</td>\n",
              "      <td>0</td>\n",
              "      <td>0</td>\n",
              "      <td>...</td>\n",
              "      <td>0</td>\n",
              "      <td>0</td>\n",
              "      <td>0</td>\n",
              "      <td>0</td>\n",
              "      <td>0</td>\n",
              "      <td>0</td>\n",
              "      <td>0</td>\n",
              "      <td>0</td>\n",
              "      <td>0</td>\n",
              "      <td>360</td>\n",
              "    </tr>\n",
              "  </tbody>\n",
              "</table>\n",
              "<p>5 rows × 70 columns</p>\n",
              "</div>\n",
              "      <button class=\"colab-df-convert\" onclick=\"convertToInteractive('df-e41fa0c3-55f1-48f2-b641-a8b92ed6389d')\"\n",
              "              title=\"Convert this dataframe to an interactive table.\"\n",
              "              style=\"display:none;\">\n",
              "        \n",
              "  <svg xmlns=\"http://www.w3.org/2000/svg\" height=\"24px\"viewBox=\"0 0 24 24\"\n",
              "       width=\"24px\">\n",
              "    <path d=\"M0 0h24v24H0V0z\" fill=\"none\"/>\n",
              "    <path d=\"M18.56 5.44l.94 2.06.94-2.06 2.06-.94-2.06-.94-.94-2.06-.94 2.06-2.06.94zm-11 1L8.5 8.5l.94-2.06 2.06-.94-2.06-.94L8.5 2.5l-.94 2.06-2.06.94zm10 10l.94 2.06.94-2.06 2.06-.94-2.06-.94-.94-2.06-.94 2.06-2.06.94z\"/><path d=\"M17.41 7.96l-1.37-1.37c-.4-.4-.92-.59-1.43-.59-.52 0-1.04.2-1.43.59L10.3 9.45l-7.72 7.72c-.78.78-.78 2.05 0 2.83L4 21.41c.39.39.9.59 1.41.59.51 0 1.02-.2 1.41-.59l7.78-7.78 2.81-2.81c.8-.78.8-2.07 0-2.86zM5.41 20L4 18.59l7.72-7.72 1.47 1.35L5.41 20z\"/>\n",
              "  </svg>\n",
              "      </button>\n",
              "      \n",
              "  <style>\n",
              "    .colab-df-container {\n",
              "      display:flex;\n",
              "      flex-wrap:wrap;\n",
              "      gap: 12px;\n",
              "    }\n",
              "\n",
              "    .colab-df-convert {\n",
              "      background-color: #E8F0FE;\n",
              "      border: none;\n",
              "      border-radius: 50%;\n",
              "      cursor: pointer;\n",
              "      display: none;\n",
              "      fill: #1967D2;\n",
              "      height: 32px;\n",
              "      padding: 0 0 0 0;\n",
              "      width: 32px;\n",
              "    }\n",
              "\n",
              "    .colab-df-convert:hover {\n",
              "      background-color: #E2EBFA;\n",
              "      box-shadow: 0px 1px 2px rgba(60, 64, 67, 0.3), 0px 1px 3px 1px rgba(60, 64, 67, 0.15);\n",
              "      fill: #174EA6;\n",
              "    }\n",
              "\n",
              "    [theme=dark] .colab-df-convert {\n",
              "      background-color: #3B4455;\n",
              "      fill: #D2E3FC;\n",
              "    }\n",
              "\n",
              "    [theme=dark] .colab-df-convert:hover {\n",
              "      background-color: #434B5C;\n",
              "      box-shadow: 0px 1px 3px 1px rgba(0, 0, 0, 0.15);\n",
              "      filter: drop-shadow(0px 1px 2px rgba(0, 0, 0, 0.3));\n",
              "      fill: #FFFFFF;\n",
              "    }\n",
              "  </style>\n",
              "\n",
              "      <script>\n",
              "        const buttonEl =\n",
              "          document.querySelector('#df-e41fa0c3-55f1-48f2-b641-a8b92ed6389d button.colab-df-convert');\n",
              "        buttonEl.style.display =\n",
              "          google.colab.kernel.accessAllowed ? 'block' : 'none';\n",
              "\n",
              "        async function convertToInteractive(key) {\n",
              "          const element = document.querySelector('#df-e41fa0c3-55f1-48f2-b641-a8b92ed6389d');\n",
              "          const dataTable =\n",
              "            await google.colab.kernel.invokeFunction('convertToInteractive',\n",
              "                                                     [key], {});\n",
              "          if (!dataTable) return;\n",
              "\n",
              "          const docLinkHtml = 'Like what you see? Visit the ' +\n",
              "            '<a target=\"_blank\" href=https://colab.research.google.com/notebooks/data_table.ipynb>data table notebook</a>'\n",
              "            + ' to learn more about interactive tables.';\n",
              "          element.innerHTML = '';\n",
              "          dataTable['output_type'] = 'display_data';\n",
              "          await google.colab.output.renderOutput(dataTable, element);\n",
              "          const docLink = document.createElement('div');\n",
              "          docLink.innerHTML = docLinkHtml;\n",
              "          element.appendChild(docLink);\n",
              "        }\n",
              "      </script>\n",
              "    </div>\n",
              "  </div>\n",
              "  "
            ]
          },
          "metadata": {},
          "execution_count": 45
        }
      ]
    },
    {
      "cell_type": "code",
      "source": [
        "from sklearn.model_selection import train_test_split"
      ],
      "metadata": {
        "id": "DTeVhDWH62hn"
      },
      "execution_count": 46,
      "outputs": []
    },
    {
      "cell_type": "code",
      "source": [
        "x = final_df.drop(\"Modal Price (Rs./Quintal)\", axis=1)"
      ],
      "metadata": {
        "id": "C5xDlO9n7NB9"
      },
      "execution_count": 47,
      "outputs": []
    },
    {
      "cell_type": "code",
      "source": [
        "y = final_df[\"Modal Price (Rs./Quintal)\"]"
      ],
      "metadata": {
        "id": "1Zlj5zxN7RE0"
      },
      "execution_count": 48,
      "outputs": []
    },
    {
      "cell_type": "code",
      "source": [
        "len(x)"
      ],
      "metadata": {
        "id": "Ee3VlRVr7vU0",
        "colab": {
          "base_uri": "https://localhost:8080/"
        },
        "outputId": "88021afc-35ae-4bae-8fee-d99d79a334cc"
      },
      "execution_count": 49,
      "outputs": [
        {
          "output_type": "execute_result",
          "data": {
            "text/plain": [
              "14313"
            ]
          },
          "metadata": {},
          "execution_count": 49
        }
      ]
    },
    {
      "cell_type": "code",
      "source": [
        "x_train, x_test, y_train, y_test = train_test_split(x, y, test_size=0.08, random_state=101)"
      ],
      "metadata": {
        "id": "31SLwtft7rbW"
      },
      "execution_count": 50,
      "outputs": []
    },
    {
      "cell_type": "markdown",
      "source": [
        "Linear Regression"
      ],
      "metadata": {
        "id": "XXX5eQbPMlzs"
      }
    },
    {
      "cell_type": "code",
      "source": [
        "from sklearn.linear_model import LinearRegression"
      ],
      "metadata": {
        "id": "5qyom2A07y4V"
      },
      "execution_count": 51,
      "outputs": []
    },
    {
      "cell_type": "code",
      "source": [
        "linear_model = LinearRegression()"
      ],
      "metadata": {
        "id": "I3IDWC5b739b"
      },
      "execution_count": 52,
      "outputs": []
    },
    {
      "cell_type": "code",
      "source": [
        "linear_model.fit(x_train,y_train)"
      ],
      "metadata": {
        "id": "SA7TsRgn75GP",
        "colab": {
          "base_uri": "https://localhost:8080/"
        },
        "outputId": "bd2cfa9b-d34c-44bb-abf1-261c4d50999e"
      },
      "execution_count": 53,
      "outputs": [
        {
          "output_type": "execute_result",
          "data": {
            "text/plain": [
              "LinearRegression()"
            ]
          },
          "metadata": {},
          "execution_count": 53
        }
      ]
    },
    {
      "cell_type": "code",
      "source": [
        "predictions = linear_model.predict(x_test)"
      ],
      "metadata": {
        "id": "DeGNj2cTC9WD"
      },
      "execution_count": 54,
      "outputs": []
    },
    {
      "cell_type": "code",
      "source": [
        "from sklearn.metrics import mean_absolute_error,mean_squared_error,r2_score"
      ],
      "metadata": {
        "id": "QzjBs5UqC_ni"
      },
      "execution_count": 55,
      "outputs": []
    },
    {
      "cell_type": "code",
      "source": [
        "mae = mean_absolute_error(y_test,predictions)\n",
        "mae"
      ],
      "metadata": {
        "id": "xGV1gfrUDBH0",
        "colab": {
          "base_uri": "https://localhost:8080/"
        },
        "outputId": "f777f838-470c-401f-826c-4029c81bc822"
      },
      "execution_count": 56,
      "outputs": [
        {
          "output_type": "execute_result",
          "data": {
            "text/plain": [
              "139.18962696335078"
            ]
          },
          "metadata": {},
          "execution_count": 56
        }
      ]
    },
    {
      "cell_type": "code",
      "source": [
        "rmse = np.sqrt(mean_squared_error(y_test,predictions))\n",
        "rmse"
      ],
      "metadata": {
        "id": "rncZpf6vDCM_",
        "colab": {
          "base_uri": "https://localhost:8080/"
        },
        "outputId": "b09bbf26-14c5-4441-dac7-887509cced20"
      },
      "execution_count": 57,
      "outputs": [
        {
          "output_type": "execute_result",
          "data": {
            "text/plain": [
              "178.20129104146494"
            ]
          },
          "metadata": {},
          "execution_count": 57
        }
      ]
    },
    {
      "cell_type": "code",
      "source": [
        "r2 = r2_score(y_test,predictions)\n",
        "r2"
      ],
      "metadata": {
        "id": "4SB6tC8PDFR_",
        "colab": {
          "base_uri": "https://localhost:8080/"
        },
        "outputId": "cd0555a3-19f9-4435-be62-c0ba6c580467"
      },
      "execution_count": 58,
      "outputs": [
        {
          "output_type": "execute_result",
          "data": {
            "text/plain": [
              "0.7569405982215553"
            ]
          },
          "metadata": {},
          "execution_count": 58
        }
      ]
    },
    {
      "cell_type": "code",
      "source": [
        "sns.displot(y_test-predictions, bins=30)"
      ],
      "metadata": {
        "id": "Mlb1FP3gDG1k",
        "colab": {
          "base_uri": "https://localhost:8080/",
          "height": 386
        },
        "outputId": "ef873942-850b-4812-cf28-0df8cbe66acd"
      },
      "execution_count": 59,
      "outputs": [
        {
          "output_type": "execute_result",
          "data": {
            "text/plain": [
              "<seaborn.axisgrid.FacetGrid at 0x7fdb01e63e50>"
            ]
          },
          "metadata": {},
          "execution_count": 59
        },
        {
          "output_type": "display_data",
          "data": {
            "text/plain": [
              "<Figure size 360x360 with 1 Axes>"
            ],
            "image/png": "[encoded data removed]"
          },
          "metadata": {
            "needs_background": "light"
          }
        }
      ]
    },
    {
      "cell_type": "code",
      "source": [
        "plt.scatter(y_test,predictions)"
      ],
      "metadata": {
        "id": "KIA4zONuDI6W",
        "colab": {
          "base_uri": "https://localhost:8080/",
          "height": 282
        },
        "outputId": "777573d5-71a2-4aee-f0fc-cc4a40d96edb"
      },
      "execution_count": 60,
      "outputs": [
        {
          "output_type": "execute_result",
          "data": {
            "text/plain": [
              "<matplotlib.collections.PathCollection at 0x7fdafc670150>"
            ]
          },
          "metadata": {},
          "execution_count": 60
        },
        {
          "output_type": "display_data",
          "data": {
            "text/plain": [
              "<Figure size 432x288 with 1 Axes>"
            ],
            "image/png": "[encoded data removed]"
          },
          "metadata": {
            "needs_background": "light"
          }
        }
      ]
    },
    {
      "cell_type": "code",
      "source": [
        "from sklearn.linear_model import ElasticNetCV"
      ],
      "metadata": {
        "id": "bYq0_Ea4DYwy"
      },
      "execution_count": 61,
      "outputs": []
    },
    {
      "cell_type": "markdown",
      "source": [
        "Elastic Net Regression\n"
      ],
      "metadata": {
        "id": "F9yEqVD7MZiz"
      }
    },
    {
      "cell_type": "code",
      "source": [
        "elastic_model = ElasticNetCV(l1_ratio=[.1,.5,.7,.9,.95,.99,1],n_alphas=100,max_iter=100000,eps=0.0000001)"
      ],
      "metadata": {
        "id": "ZmQLPVurDaMs"
      },
      "execution_count": 62,
      "outputs": []
    },
    {
      "cell_type": "code",
      "source": [
        "elastic_model.fit(x_train,y_train)"
      ],
      "metadata": {
        "id": "xtH8xkafDcFO",
        "colab": {
          "base_uri": "https://localhost:8080/"
        },
        "outputId": "a585feee-903d-4b9c-c0e9-9b5c5fc5ba78"
      },
      "execution_count": 63,
      "outputs": [
        {
          "output_type": "execute_result",
          "data": {
            "text/plain": [
              "ElasticNetCV(eps=1e-07, l1_ratio=[0.1, 0.5, 0.7, 0.9, 0.95, 0.99, 1],\n",
              "             max_iter=100000)"
            ]
          },
          "metadata": {},
          "execution_count": 63
        }
      ]
    },
    {
      "cell_type": "code",
      "source": [
        "elastic_model.l1_ratio_"
      ],
      "metadata": {
        "id": "nG7AuK2BDewM",
        "colab": {
          "base_uri": "https://localhost:8080/"
        },
        "outputId": "ac8eba58-5496-4c38-968b-a6f1594ca00e"
      },
      "execution_count": 64,
      "outputs": [
        {
          "output_type": "execute_result",
          "data": {
            "text/plain": [
              "1.0"
            ]
          },
          "metadata": {},
          "execution_count": 64
        }
      ]
    },
    {
      "cell_type": "code",
      "source": [
        "elastic_model.alpha_"
      ],
      "metadata": {
        "id": "Cx8fRAjeDgOz",
        "colab": {
          "base_uri": "https://localhost:8080/"
        },
        "outputId": "83cd83f2-db06-4467-e908-11294381815f"
      },
      "execution_count": 65,
      "outputs": [
        {
          "output_type": "execute_result",
          "data": {
            "text/plain": [
              "0.0703924171718959"
            ]
          },
          "metadata": {},
          "execution_count": 65
        }
      ]
    },
    {
      "cell_type": "code",
      "source": [
        "predictions = elastic_model.predict(x_test)"
      ],
      "metadata": {
        "id": "xgZN78KYDhbx"
      },
      "execution_count": 66,
      "outputs": []
    },
    {
      "cell_type": "code",
      "source": [
        "mae = mean_absolute_error(y_test,predictions)\n",
        "mae"
      ],
      "metadata": {
        "id": "B5PzruoUDjMU",
        "colab": {
          "base_uri": "https://localhost:8080/"
        },
        "outputId": "84f28702-7226-491c-af7d-21fbf4814df9"
      },
      "execution_count": 67,
      "outputs": [
        {
          "output_type": "execute_result",
          "data": {
            "text/plain": [
              "139.04422430706924"
            ]
          },
          "metadata": {},
          "execution_count": 67
        }
      ]
    },
    {
      "cell_type": "code",
      "source": [
        "rmse = np.sqrt(mean_squared_error(y_test,predictions))\n",
        "rmse"
      ],
      "metadata": {
        "id": "R5npdYmcDk8k",
        "colab": {
          "base_uri": "https://localhost:8080/"
        },
        "outputId": "46b9fab3-4341-4aa0-fe01-c12dc6086cca"
      },
      "execution_count": 68,
      "outputs": [
        {
          "output_type": "execute_result",
          "data": {
            "text/plain": [
              "178.02558532271527"
            ]
          },
          "metadata": {},
          "execution_count": 68
        }
      ]
    },
    {
      "cell_type": "code",
      "source": [
        "r2 = r2_score(y_test,predictions)\n",
        "r2"
      ],
      "metadata": {
        "id": "Nm9oa_eMDqzA",
        "colab": {
          "base_uri": "https://localhost:8080/"
        },
        "outputId": "022fd2df-d038-44b9-a300-1e0fdac3e045"
      },
      "execution_count": 69,
      "outputs": [
        {
          "output_type": "execute_result",
          "data": {
            "text/plain": [
              "0.7574196730050691"
            ]
          },
          "metadata": {},
          "execution_count": 69
        }
      ]
    },
    {
      "cell_type": "code",
      "source": [
        "sns.displot(y_test-predictions, bins=30)"
      ],
      "metadata": {
        "id": "q79rZ4tJDmb7",
        "colab": {
          "base_uri": "https://localhost:8080/",
          "height": 386
        },
        "outputId": "2f7caa75-b970-4f54-b17a-27370f7fad93"
      },
      "execution_count": 70,
      "outputs": [
        {
          "output_type": "execute_result",
          "data": {
            "text/plain": [
              "<seaborn.axisgrid.FacetGrid at 0x7fdafc63ec90>"
            ]
          },
          "metadata": {},
          "execution_count": 70
        },
        {
          "output_type": "display_data",
          "data": {
            "text/plain": [
              "<Figure size 360x360 with 1 Axes>"
            ],
            "image/png": "[encoded data removed]"
          },
          "metadata": {
            "needs_background": "light"
          }
        }
      ]
    },
    {
      "cell_type": "code",
      "source": [
        "plt.scatter(y_test,predictions)"
      ],
      "metadata": {
        "id": "MCjJA38ODoVy",
        "colab": {
          "base_uri": "https://localhost:8080/",
          "height": 282
        },
        "outputId": "e4d1dac0-7f6e-4768-e19b-756a83b13e9a"
      },
      "execution_count": 71,
      "outputs": [
        {
          "output_type": "execute_result",
          "data": {
            "text/plain": [
              "<matplotlib.collections.PathCollection at 0x7fdafc4c4d90>"
            ]
          },
          "metadata": {},
          "execution_count": 71
        },
        {
          "output_type": "display_data",
          "data": {
            "text/plain": [
              "<Figure size 432x288 with 1 Axes>"
            ],
            "image/png": "[encoded data removed]"
          },
          "metadata": {
            "needs_background": "light"
          }
        }
      ]
    },
    {
      "cell_type": "code",
      "source": [
        ""
      ],
      "metadata": {
        "id": "Tw2JD_rwDtP1"
      },
      "execution_count": 71,
      "outputs": []
    }
  ]
}